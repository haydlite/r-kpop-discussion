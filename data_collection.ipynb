{
 "cells": [
  {
   "cell_type": "markdown",
   "metadata": {},
   "source": [
    "## Planning / Scratch Work"
   ]
  },
  {
   "cell_type": "markdown",
   "metadata": {},
   "source": [
    "Do /r/kpop commenters talk differently about male vs. female groups?\n",
    "\n",
    "Initial exploration of this question:\n",
    "- Identify submissions on 2 all-male groups, 2 all-female groups\n",
    "- Collect their comments\n",
    "- Contrast comments in general to \"typical\" reddit language (using /r/funny as a standard)\n",
    "- Contrast comments on male group vs female group "
   ]
  },
  {
   "cell_type": "markdown",
   "metadata": {},
   "source": [
    "Using Pushshift to get reddit comments\n",
    "\n",
    "See [Pushshift's GitHub API README](https://github.com/pushshift/api)\n",
    "\n",
    "> Search for the most recent comments mentioning the word \"science\" within the subreddit /r/askscience\n",
    ">\n",
    "> `https://api.pushshift.io/reddit/search/comment/?q=science&subreddit=askscience`\n",
    "\n",
    "Retrieve all comment ids for a submission object\n",
    "\n",
    "`https://api.pushshift.io/reddit/submission/comment_ids/{base36_submission_id}`\n",
    "\n",
    "[New to Pushshift FAQ](https://www.reddit.com/r/pushshift/comments/bcxguf/new_to_pushshift_read_this_faq/)\n",
    "\n",
    "[Pushshift Reddit API v4.0 Documentation](https://reddit-api.readthedocs.io/en/latest/#)"
   ]
  },
  {
   "cell_type": "markdown",
   "metadata": {},
   "source": [
    "Not-comprehensive related works:\n",
    "- \"A Community of Curious Souls: An Analysis of Commenting Behavior on TED Talks Videos\" (Tsou, Thelwall, Mongeon, and Sugimoto, 2014)\n",
    "- \"YouTube science channel video presenters and comments: female friendly or vestiges of sexism?\" (Thelwall and Mas-Bleda, 2018)\n",
    "- \"Shirtless and dangerous: Quantifying linguistic signals of gender bias in an online fiction writing community.\" (Fast, Vachovsky, and Bernstein, 2016)\n",
    "- \"Using language models to quantify gender bias in sports journalism\" (Fu, Danescu-Niculescu-Mizil, Lee, 2016)"
   ]
  },
  {
   "cell_type": "markdown",
   "metadata": {},
   "source": [
    "## Data Collection"
   ]
  },
  {
   "cell_type": "markdown",
   "metadata": {},
   "source": [
    "Import statements"
   ]
  },
  {
   "cell_type": "code",
   "execution_count": 4,
   "metadata": {},
   "outputs": [],
   "source": [
    "import requests\n",
    "import json\n",
    "\n",
    "import pandas as pd\n",
    "from bs4 import BeautifulSoup"
   ]
  },
  {
   "cell_type": "markdown",
   "metadata": {},
   "source": [
    "Collect relevant /r/kpop submission"
   ]
  },
  {
   "cell_type": "code",
   "execution_count": 5,
   "metadata": {
    "tags": []
   },
   "outputs": [],
   "source": [
    "url = 'https://api.pushshift.io/reddit/search/submission/?subreddit=kpop&score=>50&num_comments=>50'\n",
    "user_agent = 'Mozilla/5.0 (Macintosh; Intel Mac OS X 10_15_5) AppleWebKit/537.36 (KHTML, like Gecko) Chrome/83.0.4103.116 Safari/537.36'\n",
    "response = requests.get(url, headers={'User-Agent': user_agent})\n",
    "post_titles = [post['title'] for post in response.json()['data']]\n",
    "post_ids = [post['id'] for post in response.json()['data']]\n",
    "post_id = post_ids[0]\n",
    "# response.json()['data'][1].keys() # What are the values that we can access for each submission?\n",
    "# dict_keys(['all_awardings', 'allow_live_comments', 'author', 'author_flair_css_class', 'author_flair_richtext', 'author_flair_template_id', 'author_flair_text', 'author_flair_text_color', 'author_flair_type', 'author_fullname', 'author_patreon_flair', 'author_premium', 'awarders', 'can_mod_post', 'contest_mode', 'created_utc', 'domain', 'full_link', 'gildings', 'id', 'is_crosspostable', 'is_meta', 'is_original_content', 'is_reddit_media_domain', 'is_robot_indexable', 'is_self', 'is_video', 'link_flair_background_color', 'link_flair_css_class', 'link_flair_richtext', 'link_flair_template_id', 'link_flair_text', 'link_flair_text_color', 'link_flair_type', 'locked', 'media_only', 'no_follow', 'num_comments', 'num_crossposts', 'over_18', 'parent_whitelist_status', 'permalink', 'pinned', 'pwls', 'retrieved_on', 'score', 'selftext', 'send_replies', 'spoiler', 'stickied', 'subreddit', 'subreddit_id', 'subreddit_subscribers', 'subreddit_type', 'thumbnail', 'title', 'total_awards_received', 'treatment_tags', 'upvote_ratio', 'url', 'url_overridden_by_dest', 'whitelist_status', 'wls'])"
   ]
  },
  {
   "cell_type": "markdown",
   "metadata": {},
   "source": [
    "Collect comments given post_id"
   ]
  },
  {
   "cell_type": "code",
   "execution_count": 6,
   "metadata": {
    "tags": []
   },
   "outputs": [],
   "source": [
    "url = 'https://api.pushshift.io/reddit/comment/search?link_id=' + post_id\n",
    "response = requests.get(url, headers={'User-Agent': user_agent})\n",
    "comments_json = response.json()['data']\n",
    "# comments_json[0].keys()\n",
    "# dict_keys(['all_awardings', 'approved_at_utc', 'associated_award', 'author', 'author_flair_background_color', 'author_flair_css_class', 'author_flair_richtext', 'author_flair_template_id', 'author_flair_text', 'author_flair_text_color', 'author_flair_type', 'author_fullname', 'author_patreon_flair', 'author_premium', 'awarders', 'banned_at_utc', 'body', 'can_mod_post', 'collapsed', 'collapsed_because_crowd_control', 'collapsed_reason', 'created_utc', 'distinguished', 'edited', 'gildings', 'id', 'is_submitter', 'link_id', 'locked', 'no_follow', 'parent_id', 'permalink', 'retrieved_on', 'score', 'send_replies', 'stickied', 'subreddit', 'subreddit_id', 'top_awarded_type', 'total_awards_received', 'treatment_tags'])\n",
    "comment_bodies = [comment['body'] for comment in comments_json]"
   ]
  },
  {
   "cell_type": "code",
   "execution_count": 7,
   "metadata": {
    "tags": []
   },
   "outputs": [],
   "source": [
    "data = []\n",
    "for i, post_id in enumerate(post_ids):\n",
    "    url = 'https://api.pushshift.io/reddit/comment/search?link_id=' + post_id # TODO: Collect more than 25 comments\n",
    "    response = requests.get(url, headers={'User-Agent': user_agent})\n",
    "    comments_json = response.json()['data']\n",
    "    comment_bodies = [comment['body'] for comment in comments_json]\n",
    "    entry = [post_id, post_titles[i], comment_bodies]\n",
    "    data.append(entry)"
   ]
  },
  {
   "cell_type": "markdown",
   "metadata": {},
   "source": [
    "Identify male vs female groups"
   ]
  },
  {
   "cell_type": "code",
   "execution_count": 8,
   "metadata": {
    "tags": []
   },
   "outputs": [],
   "source": [
    "data_df = pd.DataFrame(data, columns=['id', 'title', 'comments'])\n",
    "m_f_mapping = {'male': {'EXO', 'NCT', 'BTS', 'Stray Kids', 'G-Dragon', 'Big Bang'},\n",
    "'female': {'GFriend', \"Girl's Day\", 'Red Velvet', 'AOA', 'BLACKPINK', 'Momoland', 'miss A', 'MAMAMOO', 'ITZY', 'Sunmi', 'Weeekly', 'NiziU'}\n",
    "}\n",
    "m_f_mapping['male'] = {g.lower() for g in m_f_mapping['male']}\n",
    "m_f_mapping['female'] = {g.lower() for g in m_f_mapping['female']}"
   ]
  },
  {
   "cell_type": "markdown",
   "metadata": {},
   "source": [
    "Tag submissions with male or female"
   ]
  },
  {
   "cell_type": "code",
   "execution_count": 9,
   "metadata": {
    "tags": []
   },
   "outputs": [],
   "source": [
    "data_df['male'] = data_df.title.apply(lambda t: any(group in t.lower() for group in m_f_mapping['male']))\n",
    "data_df['female'] = data_df.title.apply(lambda t: any(group in t.lower() for group in m_f_mapping['female']))"
   ]
  },
  {
   "cell_type": "code",
   "execution_count": 10,
   "metadata": {},
   "outputs": [
    {
     "output_type": "execute_result",
     "data": {
      "text/plain": "        id                                              title  \\\n0   ho4kzo             EXO-SC - On Me (Sehun Solo - Track MV)   \n1   ho4kpi                      GFriend - Apple (MV Teaser 1)   \n2   hnin4k              Happy 10th Anniversary to Girl's Day!   \n3   hm9ctk                  Happy 4th anniversary to NCT 127!   \n4   hm9cak  Red Velvet - IRENE &amp; SEULGI - Monster Musi...   \n5   hlz0dr  FNC Entertainment confirms that AOA will no lo...   \n6   hlydaf  BTS now holds the record for an artist with th...   \n7   hlx4yj  BLACKPINK - How You Like That (Performance Video)   \n8   hluxyt  What are some instances of kpop idols hating t...   \n9   hlqlje                Heyyy it’s Kyla (from pristin)! AMA   \n10  hl6ump  Stray Kids make a statement supporting Black L...   \n11  hl51r4                                   Jimin leaves AOA   \n12  hkutbv  Former Momoland member Yeonwoo writes revealin...   \n13  hkr77t  Kwon Mina apologizes for worrying fans + revea...   \n14  hkklcd  GFriend - 回: Song of the Sirens (Concept Photo...   \n15  hkkjgc  Red Velvet Irene &amp; Seulgi - Monster (MV Te...   \n16  hiq2yu                   Happy 10th Anniversary to miss A   \n17  hi9spq  Mamamoo's Hwasa is the first Korean female sol...   \n18  hi7480  BLACKPINK officially breaks the 24 hour YouTub...   \n19  hi1hy4        ITZY - Lightsick Coming Soon (Teaser Image)   \n20  hi1g4u                             NiziU - Make you happy   \n21  hi1fii                                   Weeekly - Tag Me   \n22  hhr8hx                NiziU 『Make you happy』 M/V Teaser 1   \n23  hhoqvp  Sunmi's new single \"pporappippam\" revealed to ...   \n24  hgwgb8  G-Dragon’s Family Run Pension Under Fire For M...   \n\n                                             comments   male  female  \n0   [this was so different from what we usually ge...   True   False  \n1   [Obvious girl detected, lol. Gfriend is for me...  False    True  \n2   [i'm a somewhat new k pop fan (since late 2017...  False    True  \n3   [n in nct stands for non stop bops, man im hap...   True   False  \n4   [well, 3 people downvoted me but looks like I ...  False    True  \n5   [That could be, but AOA at the time was more h...  False    True  \n6   [ARMYs no chill, And the one lipbalm jungkook ...   True   False  \n7   [For real! When she's doing solo work, she def...  False    True  \n8   [[This video](https://youtu.be/u5XU9-wpqNY?t=1...  False   False  \n9   [Hi Kylа! How did you or Pristin members react...  False   False  \n10  [We have decided to lock this post as many dis...   True   False  \n11  [iron? HAHAHA, There is also clearly something...  False    True  \n12  [Same, even if both turn out to be somehow bad...  False    True  \n13  [Thank you so much for your kind words! I'm go...  False    True  \n14  [Yeah https://www.japantimes.co.jp/news/2011/0...  False    True  \n15  [I thought I was ready. Boy, was I wrong., I d...  False    True  \n16  [This was my 2nd Kpop group that I loved. The ...  False    True  \n17  [fuck yes, Yes, I don’t get it, unless they’re...  False    True  \n18  [Emma stone wasn't a sad tumblr weirdo last ti...  False    True  \n19  [thats to remind us where they eat their cds, ...  False    True  \n20  [Nope, her father is canadian., If OP's positi...  False    True  \n21  [Main girl kind of reminds me of Kyung Ri from...  False    True  \n22  [No, Rima speaks Korean., Oh I thought Rima wa...  False    True  \n23  [Very cool! I never had exposure to this at al...  False    True  \n24  [Fair point, The thing is he definitely didn’t...   True   False  ",
      "text/html": "<div>\n<style scoped>\n    .dataframe tbody tr th:only-of-type {\n        vertical-align: middle;\n    }\n\n    .dataframe tbody tr th {\n        vertical-align: top;\n    }\n\n    .dataframe thead th {\n        text-align: right;\n    }\n</style>\n<table border=\"1\" class=\"dataframe\">\n  <thead>\n    <tr style=\"text-align: right;\">\n      <th></th>\n      <th>id</th>\n      <th>title</th>\n      <th>comments</th>\n      <th>male</th>\n      <th>female</th>\n    </tr>\n  </thead>\n  <tbody>\n    <tr>\n      <th>0</th>\n      <td>ho4kzo</td>\n      <td>EXO-SC - On Me (Sehun Solo - Track MV)</td>\n      <td>[this was so different from what we usually ge...</td>\n      <td>True</td>\n      <td>False</td>\n    </tr>\n    <tr>\n      <th>1</th>\n      <td>ho4kpi</td>\n      <td>GFriend - Apple (MV Teaser 1)</td>\n      <td>[Obvious girl detected, lol. Gfriend is for me...</td>\n      <td>False</td>\n      <td>True</td>\n    </tr>\n    <tr>\n      <th>2</th>\n      <td>hnin4k</td>\n      <td>Happy 10th Anniversary to Girl's Day!</td>\n      <td>[i'm a somewhat new k pop fan (since late 2017...</td>\n      <td>False</td>\n      <td>True</td>\n    </tr>\n    <tr>\n      <th>3</th>\n      <td>hm9ctk</td>\n      <td>Happy 4th anniversary to NCT 127!</td>\n      <td>[n in nct stands for non stop bops, man im hap...</td>\n      <td>True</td>\n      <td>False</td>\n    </tr>\n    <tr>\n      <th>4</th>\n      <td>hm9cak</td>\n      <td>Red Velvet - IRENE &amp;amp; SEULGI - Monster Musi...</td>\n      <td>[well, 3 people downvoted me but looks like I ...</td>\n      <td>False</td>\n      <td>True</td>\n    </tr>\n    <tr>\n      <th>5</th>\n      <td>hlz0dr</td>\n      <td>FNC Entertainment confirms that AOA will no lo...</td>\n      <td>[That could be, but AOA at the time was more h...</td>\n      <td>False</td>\n      <td>True</td>\n    </tr>\n    <tr>\n      <th>6</th>\n      <td>hlydaf</td>\n      <td>BTS now holds the record for an artist with th...</td>\n      <td>[ARMYs no chill, And the one lipbalm jungkook ...</td>\n      <td>True</td>\n      <td>False</td>\n    </tr>\n    <tr>\n      <th>7</th>\n      <td>hlx4yj</td>\n      <td>BLACKPINK - How You Like That (Performance Video)</td>\n      <td>[For real! When she's doing solo work, she def...</td>\n      <td>False</td>\n      <td>True</td>\n    </tr>\n    <tr>\n      <th>8</th>\n      <td>hluxyt</td>\n      <td>What are some instances of kpop idols hating t...</td>\n      <td>[[This video](https://youtu.be/u5XU9-wpqNY?t=1...</td>\n      <td>False</td>\n      <td>False</td>\n    </tr>\n    <tr>\n      <th>9</th>\n      <td>hlqlje</td>\n      <td>Heyyy it’s Kyla (from pristin)! AMA</td>\n      <td>[Hi Kylа! How did you or Pristin members react...</td>\n      <td>False</td>\n      <td>False</td>\n    </tr>\n    <tr>\n      <th>10</th>\n      <td>hl6ump</td>\n      <td>Stray Kids make a statement supporting Black L...</td>\n      <td>[We have decided to lock this post as many dis...</td>\n      <td>True</td>\n      <td>False</td>\n    </tr>\n    <tr>\n      <th>11</th>\n      <td>hl51r4</td>\n      <td>Jimin leaves AOA</td>\n      <td>[iron? HAHAHA, There is also clearly something...</td>\n      <td>False</td>\n      <td>True</td>\n    </tr>\n    <tr>\n      <th>12</th>\n      <td>hkutbv</td>\n      <td>Former Momoland member Yeonwoo writes revealin...</td>\n      <td>[Same, even if both turn out to be somehow bad...</td>\n      <td>False</td>\n      <td>True</td>\n    </tr>\n    <tr>\n      <th>13</th>\n      <td>hkr77t</td>\n      <td>Kwon Mina apologizes for worrying fans + revea...</td>\n      <td>[Thank you so much for your kind words! I'm go...</td>\n      <td>False</td>\n      <td>True</td>\n    </tr>\n    <tr>\n      <th>14</th>\n      <td>hkklcd</td>\n      <td>GFriend - 回: Song of the Sirens (Concept Photo...</td>\n      <td>[Yeah https://www.japantimes.co.jp/news/2011/0...</td>\n      <td>False</td>\n      <td>True</td>\n    </tr>\n    <tr>\n      <th>15</th>\n      <td>hkkjgc</td>\n      <td>Red Velvet Irene &amp;amp; Seulgi - Monster (MV Te...</td>\n      <td>[I thought I was ready. Boy, was I wrong., I d...</td>\n      <td>False</td>\n      <td>True</td>\n    </tr>\n    <tr>\n      <th>16</th>\n      <td>hiq2yu</td>\n      <td>Happy 10th Anniversary to miss A</td>\n      <td>[This was my 2nd Kpop group that I loved. The ...</td>\n      <td>False</td>\n      <td>True</td>\n    </tr>\n    <tr>\n      <th>17</th>\n      <td>hi9spq</td>\n      <td>Mamamoo's Hwasa is the first Korean female sol...</td>\n      <td>[fuck yes, Yes, I don’t get it, unless they’re...</td>\n      <td>False</td>\n      <td>True</td>\n    </tr>\n    <tr>\n      <th>18</th>\n      <td>hi7480</td>\n      <td>BLACKPINK officially breaks the 24 hour YouTub...</td>\n      <td>[Emma stone wasn't a sad tumblr weirdo last ti...</td>\n      <td>False</td>\n      <td>True</td>\n    </tr>\n    <tr>\n      <th>19</th>\n      <td>hi1hy4</td>\n      <td>ITZY - Lightsick Coming Soon (Teaser Image)</td>\n      <td>[thats to remind us where they eat their cds, ...</td>\n      <td>False</td>\n      <td>True</td>\n    </tr>\n    <tr>\n      <th>20</th>\n      <td>hi1g4u</td>\n      <td>NiziU - Make you happy</td>\n      <td>[Nope, her father is canadian., If OP's positi...</td>\n      <td>False</td>\n      <td>True</td>\n    </tr>\n    <tr>\n      <th>21</th>\n      <td>hi1fii</td>\n      <td>Weeekly - Tag Me</td>\n      <td>[Main girl kind of reminds me of Kyung Ri from...</td>\n      <td>False</td>\n      <td>True</td>\n    </tr>\n    <tr>\n      <th>22</th>\n      <td>hhr8hx</td>\n      <td>NiziU 『Make you happy』 M/V Teaser 1</td>\n      <td>[No, Rima speaks Korean., Oh I thought Rima wa...</td>\n      <td>False</td>\n      <td>True</td>\n    </tr>\n    <tr>\n      <th>23</th>\n      <td>hhoqvp</td>\n      <td>Sunmi's new single \"pporappippam\" revealed to ...</td>\n      <td>[Very cool! I never had exposure to this at al...</td>\n      <td>False</td>\n      <td>True</td>\n    </tr>\n    <tr>\n      <th>24</th>\n      <td>hgwgb8</td>\n      <td>G-Dragon’s Family Run Pension Under Fire For M...</td>\n      <td>[Fair point, The thing is he definitely didn’t...</td>\n      <td>True</td>\n      <td>False</td>\n    </tr>\n  </tbody>\n</table>\n</div>"
     },
     "metadata": {},
     "execution_count": 10
    }
   ],
   "source": [
    "data_df"
   ]
  }
 ],
 "metadata": {
  "language_info": {
   "codemirror_mode": {
    "name": "ipython",
    "version": 3
   },
   "file_extension": ".py",
   "mimetype": "text/x-python",
   "name": "python",
   "nbconvert_exporter": "python",
   "pygments_lexer": "ipython3",
   "version": "3.8.3-final"
  },
  "orig_nbformat": 2,
  "kernelspec": {
   "name": "python_defaultSpec_1594433253540",
   "display_name": "Python 3.8.3 64-bit ('gendered-discussion': conda)"
  }
 },
 "nbformat": 4,
 "nbformat_minor": 2
}