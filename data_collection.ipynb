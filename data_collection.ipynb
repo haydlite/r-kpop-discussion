{
 "cells": [
  {
   "cell_type": "markdown",
   "metadata": {},
   "source": [
    "## Planning / Scratch Work"
   ]
  },
  {
   "cell_type": "markdown",
   "metadata": {},
   "source": [
    "Do /r/kpop commenters talk differently about male vs. female groups?\n",
    "\n",
    "Initial exploration of this question:\n",
    "- Identify submissions on 2 all-male groups, 2 all-female groups\n",
    "- Collect their comments\n",
    "- Contrast comments in general to \"typical\" reddit language (using /r/funny as a standard)\n",
    "- Contrast comments on male group vs female group "
   ]
  },
  {
   "cell_type": "markdown",
   "metadata": {},
   "source": [
    "Using Pushshift to get reddit comments\n",
    "\n",
    "See [Pushshift's GitHub API README](https://github.com/pushshift/api)\n",
    "\n",
    "> Search for the most recent comments mentioning the word \"science\" within the subreddit /r/askscience\n",
    ">\n",
    "> `https://api.pushshift.io/reddit/search/comment/?q=science&subreddit=askscience`\n",
    "\n",
    "Retrieve all comment ids for a submission object\n",
    "\n",
    "`https://api.pushshift.io/reddit/submission/comment_ids/{base36_submission_id}`\n",
    "\n",
    "[New to Pushshift FAQ](https://www.reddit.com/r/pushshift/comments/bcxguf/new_to_pushshift_read_this_faq/)\n",
    "\n",
    "[Pushshift Reddit API v4.0 Documentation](https://reddit-api.readthedocs.io/en/latest/#)"
   ]
  },
  {
   "cell_type": "markdown",
   "metadata": {},
   "source": [
    "Not-comprehensive related works:\n",
    "- \"A Community of Curious Souls: An Analysis of Commenting Behavior on TED Talks Videos\" (Tsou, Thelwall, Mongeon, and Sugimoto, 2014)\n",
    "- \"YouTube science channel video presenters and comments: female friendly or vestiges of sexism?\" (Thelwall and Mas-Bleda, 2018)\n",
    "- \"Shirtless and dangerous: Quantifying linguistic signals of gender bias in an online fiction writing community.\" (Fast, Vachovsky, and Bernstein, 2016)\n",
    "- \"Using language models to quantify gender bias in sports journalism\" (Fu, Danescu-Niculescu-Mizil, Lee, 2016)"
   ]
  },
  {
   "cell_type": "markdown",
   "metadata": {},
   "source": [
    "## Data Collection"
   ]
  },
  {
   "cell_type": "markdown",
   "metadata": {},
   "source": [
    "Import statements"
   ]
  },
  {
   "cell_type": "code",
   "execution_count": 7,
   "metadata": {},
   "outputs": [],
   "source": [
    "import string\n",
    "import re\n",
    "import requests\n",
    "import logging\n",
    "import pickle\n",
    "import json\n",
    "import time\n",
    "\n",
    "from collections import Counter\n",
    "\n",
    "from tqdm import tqdm\n",
    "\n",
    "import pandas as pd\n",
    "\n",
    "import nltk\n",
    "from nltk.corpus import stopwords\n",
    "\n",
    "from data_collection_utils import *\n",
    "\n",
    "ENGLISH_STOPWORDS = stopwords.words('english')"
   ]
  },
  {
   "cell_type": "markdown",
   "metadata": {},
   "source": [
    "## Pushshift Notes\n",
    "\n",
    "What are the values that we can access for each submission?\n",
    "\n",
    "```python\n",
    "> response.json()['data'][1].keys()\n",
    "\n",
    "> dict_keys(['all_awardings', 'allow_live_comments', 'author', 'author_flair_css_class', 'author_flair_richtext', 'author_flair_template_id', 'author_flair_text', \n",
    "'author_flair_text_color', 'author_flair_type', 'author_fullname', 'author_patreon_flair', 'author_premium', 'awarders', 'can_mod_post', 'contest_mode', 'created_utc', 'domain',\n",
    "'full_link', 'gildings', 'id', 'is_crosspostable', 'is_meta', 'is_original_content', 'is_reddit_media_domain', 'is_robot_indexable', 'is_self', 'is_video',\n",
    "'link_flair_background_color', 'link_flair_css_class', 'link_flair_richtext', 'link_flair_template_id', 'link_flair_text', 'link_flair_text_color', 'link_flair_type', 'locked',\n",
    "'media_only', 'no_follow', 'num_comments', 'num_crossposts', 'over_18', 'parent_whitelist_status', 'permalink', 'pinned', 'pwls', 'retrieved_on', 'score', 'selftext',\n",
    "'send_replies', 'spoiler', 'stickied', 'subreddit', 'subreddit_id', 'subreddit_subscribers', 'subreddit_type', 'thumbnail', 'title', 'total_awards_received', 'treatment_tags',\n",
    "'upvote_ratio', 'url', 'url_overridden_by_dest', 'whitelist_status', 'wls'])\n",
    "```\n",
    "\n",
    "Note that `created_utc` is given in unix timestamp\n",
    "\n",
    "```\n",
    "> [post['created_utc'] for post in response.json()['data']]\n",
    "\n",
    ">[1595657105,\n",
    " 1595641997,\n",
    " 1595632191,\n",
    " 1595623051,\n",
    " 1595602847,\n",
    " 1595599200,\n",
    " 1595583205,\n",
    " 1595581926,...\n",
    "```\n",
    "\n",
    "This tells us that newer posts are given first (i.e. order of posts in repsonse.json() is newest to oldest).\n",
    "\n",
    "What are the values that we can access for each comment?\n",
    "\n",
    "```python\n",
    "comments_json[0].keys()\n",
    "\n",
    "dict_keys(['all_awardings', 'approved_at_utc', 'associated_award', 'author', 'author_flair_background_color', 'author_flair_css_class', 'author_flair_richtext',\n",
    "'author_flair_template_id', 'author_flair_text', 'author_flair_text_color', 'author_flair_type', 'author_fullname', 'author_patreon_flair', 'author_premium', 'awarders',\n",
    "'banned_at_utc', 'body', 'can_mod_post', 'collapsed', 'collapsed_because_crowd_control', 'collapsed_reason', 'created_utc', 'distinguished', 'edited', 'gildings', 'id', \n",
    "'is_submitter', 'link_id', 'locked', 'no_follow', 'parent_id', 'permalink', 'retrieved_on', 'score', 'send_replies', 'stickied', 'subreddit', 'subreddit_id', 'top_awarded_type', \n",
    "'total_awards_received', 'treatment_tags'])\n",
    "   \n",
    "```\n"
   ]
  },
  {
   "cell_type": "code",
   "execution_count": 36,
   "metadata": {
    "tags": []
   },
   "outputs": [],
   "source": [
    "# Collect N posts\n",
    "number_of_posts_to_collect = 50\n",
    "posts = []\n",
    "oldest_post_utc = None\n",
    "while len(posts) < number_of_posts_to_collect: # < 1000\n",
    "    if oldest_post_utc is None:\n",
    "        posts = collect_posts()\n",
    "        oldest_post_utc = posts[-1]['created_utc']\n",
    "    else:\n",
    "        print('oldest_post_utc: {}'.format(oldest_post_utc))\n",
    "        time.sleep(1)\n",
    "        older_posts = collect_posts(before = oldest_post_utc)\n",
    "        oldest_post_utc = older_posts[-1]['created_utc']\n",
    "        posts.extend(older_posts)\n",
    "\n",
    "data_filename = 'rkpop-{}-posts.pkl'.format(number_of_posts_to_collect)\n",
    "save_data(posts, 'data/{}'.format(data_filename))\n",
    "\n",
    "# Test if saving works\n",
    "test_load = load_data('data/{}'.format(data_filename))\n",
    "assert test_load == posts\n",
    "del test_load"
   ]
  },
  {
   "cell_type": "code",
   "execution_count": 34,
   "metadata": {},
   "outputs": [
    {
     "output_type": "execute_result",
     "data": {
      "text/plain": [
       "50"
      ]
     },
     "metadata": {},
     "execution_count": 34
    }
   ],
   "source": [
    "post_ids = [post['id'] for post in posts]\n",
    "len(set(post_ids))"
   ]
  },
  {
   "cell_type": "code",
   "execution_count": 31,
   "metadata": {},
   "outputs": [],
   "source": [
    "from multiprocessing import Pool\n",
    "import multiprocessing\n",
    "\n",
    "num_cpu = multiprocessing.cpu_count()"
   ]
  },
  {
   "cell_type": "code",
   "execution_count": 35,
   "metadata": {
    "tags": []
   },
   "outputs": [
    {
     "output_type": "stream",
     "name": "stderr",
     "text": [
      "  0%|          | 0/50 [00:00<?, ?it/s]WARNING:root:Post lwpgcl has more than 50 comments; only 50 most recent comments will be collected\n",
      "  2%|▏         | 1/50 [00:01<01:00,  1.24s/it]WARNING:root:Post lwoei6 has more than 50 comments; only 50 most recent comments will be collected\n",
      "  4%|▍         | 2/50 [00:03<01:30,  1.88s/it]WARNING:root:Post lwmn31 has more than 50 comments; only 50 most recent comments will be collected\n",
      "  6%|▌         | 3/50 [00:06<01:44,  2.22s/it]WARNING:root:Post lwmc3q has more than 50 comments; only 50 most recent comments will be collected\n",
      "  8%|▊         | 4/50 [00:08<01:52,  2.44s/it]WARNING:root:Post lwlmck has more than 50 comments; only 50 most recent comments will be collected\n",
      " 10%|█         | 5/50 [00:11<01:51,  2.47s/it]WARNING:root:Post lwjwkh has more than 50 comments; only 50 most recent comments will be collected\n",
      " 12%|█▏        | 6/50 [00:14<01:50,  2.50s/it]WARNING:root:Post lwjk2z has more than 50 comments; only 50 most recent comments will be collected\n",
      " 14%|█▍        | 7/50 [00:16<01:47,  2.50s/it]WARNING:root:Post lu71qn has more than 50 comments; only 50 most recent comments will be collected\n",
      " 16%|█▌        | 8/50 [00:19<01:45,  2.52s/it]WARNING:root:Post lu3jz4 has more than 50 comments; only 50 most recent comments will be collected\n",
      " 18%|█▊        | 9/50 [00:22<01:50,  2.71s/it]WARNING:root:Post lu35aa has more than 50 comments; only 50 most recent comments will be collected\n",
      " 20%|██        | 10/50 [00:24<01:45,  2.65s/it]WARNING:root:Post lu1cq0 has more than 50 comments; only 50 most recent comments will be collected\n",
      " 22%|██▏       | 11/50 [00:27<01:42,  2.63s/it]WARNING:root:Post ltna6n has more than 50 comments; only 50 most recent comments will be collected\n",
      " 24%|██▍       | 12/50 [00:29<01:37,  2.55s/it]WARNING:root:Post ltm7mp has more than 50 comments; only 50 most recent comments will be collected\n",
      " 26%|██▌       | 13/50 [00:32<01:40,  2.72s/it]WARNING:root:Post ltln4b has more than 50 comments; only 50 most recent comments will be collected\n",
      " 28%|██▊       | 14/50 [00:35<01:41,  2.81s/it]WARNING:root:Post ltczoz has more than 50 comments; only 50 most recent comments will be collected\n",
      " 30%|███       | 15/50 [00:38<01:36,  2.75s/it]WARNING:root:Post ltcu3m has more than 50 comments; only 50 most recent comments will be collected\n",
      " 32%|███▏      | 16/50 [00:41<01:33,  2.76s/it]WARNING:root:Post lt32uy has more than 50 comments; only 50 most recent comments will be collected\n",
      " 34%|███▍      | 17/50 [00:43<01:30,  2.73s/it]WARNING:root:Post lt229t has more than 50 comments; only 50 most recent comments will be collected\n",
      " 36%|███▌      | 18/50 [00:46<01:27,  2.74s/it]WARNING:root:Post lt1ud1 has more than 50 comments; only 50 most recent comments will be collected\n",
      " 38%|███▊      | 19/50 [00:49<01:29,  2.90s/it]WARNING:root:Post lszzqo has more than 50 comments; only 50 most recent comments will be collected\n",
      " 40%|████      | 20/50 [00:52<01:23,  2.79s/it]WARNING:root:Post lsz4y6 has more than 50 comments; only 50 most recent comments will be collected\n",
      " 42%|████▏     | 21/50 [00:55<01:18,  2.72s/it]WARNING:root:Post lsz15v has more than 50 comments; only 50 most recent comments will be collected\n",
      " 44%|████▍     | 22/50 [00:57<01:15,  2.68s/it]WARNING:root:Post lsy8d5 has more than 50 comments; only 50 most recent comments will be collected\n",
      " 46%|████▌     | 23/50 [01:00<01:17,  2.86s/it]WARNING:root:Post lsuyzh has more than 50 comments; only 50 most recent comments will be collected\n",
      " 48%|████▊     | 24/50 [01:04<01:23,  3.20s/it]WARNING:root:Post lsuedo has more than 50 comments; only 50 most recent comments will be collected\n",
      " 50%|█████     | 25/50 [01:07<01:15,  3.04s/it]WARNING:root:Post lsuap0 has more than 50 comments; only 50 most recent comments will be collected\n",
      " 52%|█████▏    | 26/50 [01:10<01:10,  2.93s/it]WARNING:root:Post lsu027 has more than 50 comments; only 50 most recent comments will be collected\n",
      " 54%|█████▍    | 27/50 [01:12<01:05,  2.85s/it]WARNING:root:Post lss0sj has more than 50 comments; only 50 most recent comments will be collected\n",
      " 56%|█████▌    | 28/50 [01:16<01:09,  3.16s/it]WARNING:root:Post lss0qb has more than 50 comments; only 50 most recent comments will be collected\n",
      " 58%|█████▊    | 29/50 [01:19<01:04,  3.06s/it]WARNING:root:Post lsrbpv has more than 50 comments; only 50 most recent comments will be collected\n",
      " 60%|██████    | 30/50 [01:22<00:59,  2.98s/it]WARNING:root:Post lsqrhi has more than 50 comments; only 50 most recent comments will be collected\n",
      " 62%|██████▏   | 31/50 [01:25<00:54,  2.89s/it]WARNING:root:Post lsqd5f has more than 50 comments; only 50 most recent comments will be collected\n",
      " 64%|██████▍   | 32/50 [01:27<00:50,  2.81s/it]WARNING:root:Post lsowxb has more than 50 comments; only 50 most recent comments will be collected\n",
      " 66%|██████▌   | 33/50 [01:30<00:47,  2.81s/it]WARNING:root:Post lsol9v has more than 50 comments; only 50 most recent comments will be collected\n",
      " 68%|██████▊   | 34/50 [01:33<00:45,  2.86s/it]WARNING:root:Post lsnwob has more than 50 comments; only 50 most recent comments will be collected\n",
      " 70%|███████   | 35/50 [01:37<00:46,  3.07s/it]WARNING:root:Post lsm25s has more than 50 comments; only 50 most recent comments will be collected\n",
      " 72%|███████▏  | 36/50 [01:39<00:41,  2.95s/it]WARNING:root:Post lslnvo has more than 50 comments; only 50 most recent comments will be collected\n",
      " 74%|███████▍  | 37/50 [01:42<00:37,  2.90s/it]WARNING:root:Post lsi5ps has more than 50 comments; only 50 most recent comments will be collected\n",
      " 76%|███████▌  | 38/50 [01:45<00:35,  2.98s/it]WARNING:root:Post lshlk9 has more than 50 comments; only 50 most recent comments will be collected\n",
      " 78%|███████▊  | 39/50 [01:48<00:33,  3.07s/it]WARNING:root:Post lsd3o2 has more than 50 comments; only 50 most recent comments will be collected\n",
      " 80%|████████  | 40/50 [01:52<00:30,  3.10s/it]WARNING:root:Post lsc69z has more than 50 comments; only 50 most recent comments will be collected\n",
      " 82%|████████▏ | 41/50 [01:54<00:26,  2.94s/it]WARNING:root:Post ls8g51 has more than 50 comments; only 50 most recent comments will be collected\n",
      " 84%|████████▍ | 42/50 [01:57<00:22,  2.83s/it]WARNING:root:Post ls7inp has more than 50 comments; only 50 most recent comments will be collected\n",
      " 86%|████████▌ | 43/50 [02:00<00:20,  2.99s/it]WARNING:root:Post ls48qf has more than 50 comments; only 50 most recent comments will be collected\n",
      " 88%|████████▊ | 44/50 [02:03<00:17,  2.92s/it]WARNING:root:Post ls3u29 has more than 50 comments; only 50 most recent comments will be collected\n",
      " 90%|█████████ | 45/50 [02:06<00:15,  3.02s/it]WARNING:root:Post ls2btt has more than 50 comments; only 50 most recent comments will be collected\n",
      " 92%|█████████▏| 46/50 [02:09<00:11,  2.93s/it]WARNING:root:Post ls2ajb has more than 50 comments; only 50 most recent comments will be collected\n",
      " 94%|█████████▍| 47/50 [02:12<00:09,  3.02s/it]WARNING:root:Post ls27m9 has more than 50 comments; only 50 most recent comments will be collected\n",
      " 96%|█████████▌| 48/50 [02:15<00:05,  2.90s/it]WARNING:root:Post ls1ge8 has more than 50 comments; only 50 most recent comments will be collected\n",
      " 98%|█████████▊| 49/50 [02:17<00:02,  2.87s/it]WARNING:root:Post ls0rin has more than 50 comments; only 50 most recent comments will be collected\n",
      "100%|██████████| 50/50 [02:21<00:00,  2.83s/it]\n"
     ]
    }
   ],
   "source": [
    "# Collect comments for the posts\n",
    "# with Pool(10) as p:\n",
    "#     comments = p.map(collect_comment, posts)\n",
    "\n",
    "# Decided to do it serially because multiprocessing was getting my IP blocked?\n",
    "\n",
    "comments = []\n",
    "for post in tqdm(posts):\n",
    "    comments.append(collect_comment(post, size_to_collect=50)) # Max to collect at once is 100....\n",
    "\n",
    "save_data(comments, 'data/rkpop-50-comments.pkl')"
   ]
  },
  {
   "cell_type": "code",
   "execution_count": 42,
   "metadata": {},
   "outputs": [],
   "source": [
    "import glob"
   ]
  },
  {
   "cell_type": "code",
   "execution_count": 25,
   "metadata": {
    "tags": []
   },
   "outputs": [],
   "source": [
    "# for comment_pkl in glob.glob('data/comments/*'):\n",
    "#     print(len(load_data(comment_pkl))) \n",
    "# ??? Some sort f collection error... fewer than 50 for many"
   ]
  },
  {
   "cell_type": "code",
   "execution_count": 53,
   "metadata": {},
   "outputs": [
    {
     "output_type": "execute_result",
     "data": {
      "text/plain": [
       "dict_keys(['lsnwob-50', 'lwjk2z-50', 'ltln4b-50', 'lshlk9-50', 'lsd3o2-50', 'lu3jz4-50', 'lsy8d5-50', 'lsuap0-50', 'ltczoz-50', 'lsi5ps-50', 'ltcu3m-50', 'lsm25s-50', 'lsqrhi-50', 'ls48qf-50', 'lsowxb-50', 'ls7inp-50', 'lt1ud1-50', 'ls2btt-50', 'lss0sj-50', 'lu35aa-50', 'lwjwkh-50', 'ltna6n-50', 'lwmn31-50', 'lszzqo-50', 'lwlmck-50', 'ls3u29-50', 'lsc69z-50', 'lwmc3q-50', 'lt229t-50', 'ls1ge8-50', 'lsol9v-50', 'lsz15v-50', 'lwpgcl-50', 'ls0rin-50', 'lsrbpv-50', 'lu1cq0-50', 'lsuedo-50', 'ls8g51-50', 'ls2ajb-50', 'lwoei6-50', 'ltm7mp-50', 'lt32uy-50', 'ls27m9-50', 'lsz4y6-50', 'lslnvo-50', 'lsu027-50', 'lss0qb-50', 'lsuyzh-50', 'lu71qn-50', 'lsqd5f-50'])"
      ]
     },
     "metadata": {},
     "execution_count": 53
    }
   ],
   "source": [
    "# not sure what's going on with rkpop 50 coments pkl saved\n",
    "\n",
    "comments = {}\n",
    "for filename in glob.glob('data/comments/*'):\n",
    "    start = filename.rindex('/') + 1\n",
    "    end = filename.rindex('-')\n",
    "    post_id = filename[start:end]\n",
    "    comments[post_id] = load_data(filename)\n",
    "\n",
    "comments.keys()"
   ]
  },
  {
   "cell_type": "code",
   "execution_count": 68,
   "metadata": {},
   "outputs": [
    {
     "output_type": "execute_result",
     "data": {
      "text/plain": [
       "'lsnwob-50'"
      ]
     },
     "metadata": {},
     "execution_count": 68
    }
   ],
   "source": [
    "example_post_id = list(comments.keys())[0]\n",
    "example_post_id"
   ]
  },
  {
   "cell_type": "code",
   "execution_count": 54,
   "metadata": {},
   "outputs": [],
   "source": [
    "post_ids = [p['id'] for p in posts]\n",
    "post_titles = [p['title'] for p in posts]\n",
    "\n",
    "post_ids_titles_dict = dict(zip(post_ids, post_titles))"
   ]
  },
  {
   "cell_type": "code",
   "execution_count": 69,
   "metadata": {},
   "outputs": [
    {
     "output_type": "execute_result",
     "data": {
      "text/plain": [
       "['My company hires hundreds, if not 1000+ employees each year, and absolutely does background check on every hiree. They check your personal references, workplace reference, check my parents background (when I was already hired my boss said to the group something like \"her dad works in X and was assigned in X\" which I did not reveal in my application) and even go where you live.\\n\\nI definitely think they can do more rigorous background checks on the 10s of trainees they accept each year. If that is too much then they can do it one year after if the trainee remained with the company and shown great potential to debut.\\n\\nIt will definitely not be perfect. If your bullying is confined to a few people and hidden it\\'ll be hard to track it down. There\\'ll also be malicious accusations. But if someone is a known school or class bully (like Hyunjin appears to be) then it\\'ll be possible to corroborate claims.',\n",
       " \"This honestly just seems like middle school name calling, disagreements, and banter still lol. The issue is that sexual assault and actual bullying are being lumped together with this... I think it's obvious that it wasn't more than that because he would've been kicked out like the JYP trainee in PX101.\",\n",
       " 'I’d definitely put Taeil and Doyoung with the top vocals of their gen',\n",
       " 'While I do hope they really are careful with the trainees they pick and debut,it does seem like a PR move.Judging by the translation,it looks like the perfect thing to say to an agitated fandom and the gp at large.Skz,and by extension JYP have a lot to lose what with that kingdom show coming up.I feel for the other members though—they didn’t deserve this.',\n",
       " 'Trying to word it softly would be a bigger mistake since there would be backlash about how he’s getting off easy. Especially with a vague statement about anti bullying awareness, there’s nothing you can really do since people already know bullying is a thing. It’s better to give a harsh punishment and state the agency’s disapproval about it to try and get the public to say “no no it wasn’t THAT bad, you don’t have to do ___”.']"
      ]
     },
     "metadata": {},
     "execution_count": 69
    }
   ],
   "source": [
    "comments[example_post_id][:5]"
   ]
  },
  {
   "cell_type": "code",
   "execution_count": 72,
   "metadata": {},
   "outputs": [
    {
     "output_type": "execute_result",
     "data": {
      "text/plain": [
       "{'lwpgcl': 'iKON - Why Why Why',\n",
       " 'lwoei6': \"More Brands And Variety Shows Pull APRIL's Naeun From Their Content Due To Recent Controversy\",\n",
       " 'lwmn31': \"SHINee's Taemin awarded for being an exemplary taxpayer along with Park Minyoung, Jo Jungsuk, and Jo Seho\",\n",
       " 'lwmc3q': \"Dong Suh Foods Corporation halts promotions with April's Naeun\",\n",
       " 'lwlmck': \"'Delicious Rendezvous' to edit out April's Naeun in the upcoming episode\",\n",
       " 'lwjwkh': 'S. Korea to build state-run K-pop concert hall for unaffordable online performances',\n",
       " 'lwjk2z': 'ITZY Yeji to be the featured artist for \"M2 Studio CHOOM - Artist of the Month\" for March 2021',\n",
       " 'lu71qn': 'Pledis releases a statement regarding Seventeen’s Mingyu Bullying Allegations',\n",
       " 'lu3jz4': \"Lights ON! We're ONF. Let's AMA!\",\n",
       " 'lu35aa': 'Packed Circle Chart - K-Pop Groups and YouTube Distribution Channels',\n",
       " 'lu1cq0': \"Second accuser, owner of 'The North Face' jacket, reveals they were also asked to meet with Cube Entertainment reps\",\n",
       " 'ltna6n': 'Brave Girls achieve their first #1 on Bugs Chart, almost 10 years after their debut, with Rollin’. They have surpassed Blackpink’s Lovesick Girls, BTS’ Dynamite and IU’s Celebrity.',\n",
       " 'ltm7mp': 'JYP Releases Statement Addressing Stray Kids’ Hyunjin’s Hiatus',\n",
       " 'ltln4b': \"Hi, I’m BIBI. Let's AMA!!\",\n",
       " 'ltczoz': 'Halsey, MAX, And Lauv Show Support For BTS In Light Of Racist Comments From BAYERN 3',\n",
       " 'ltcu3m': \"W Magazine- George Clooney's dramatic reading of @BTS_twt Dynamite will soothe your soul.\",\n",
       " 'lt32uy': 'According To CCTV Footage, Seungri Was With An Actress During His Alleged Gang Related Incident',\n",
       " 'lt229t': \"Alleged victim responds to the defense Hyunjin's teacher wrote\",\n",
       " 'lt1ud1': 'Starship Entertainment Says That MONSTA X’s Kihyun Has Resolved Misunderstandings With Accuser',\n",
       " 'lszzqo': \"GOT7's Jay B Reassures Fans The Group's Working Hard To Stay Together\",\n",
       " 'lsz4y6': \"German radio show Bayern 3 apologizes for host's racist tirade against BTS\",\n",
       " 'lsz15v': 'German radio DJ under fire after alleged racist remarks comparing BTS to COVID-19',\n",
       " 'lsy8d5': \"SHINee - Don't Call Me (M2 Studio CHOOM - BE ORIGINAL)\",\n",
       " 'lsuyzh': 'StrayKids Hyunjin former teacher defends him in Naver Article.',\n",
       " 'lsuedo': 'ARMY goes to war after German radio D.J. critical of BTS',\n",
       " 'lsuap0': \"BTS' 'Dynamite' earns its 31st music show win, ties with Shin Seung-hun's 'Invisible Love' (1992) for the most music show wins of all-time\",\n",
       " 'lsu027': \"MONSTA X's Kihyun Reported To Have Met Up With Accuser ... Starship Entertainment Delivers An Official Statement\",\n",
       " 'lss0sj': 'Our First AMA!',\n",
       " 'lss0qb': \"Initial accuser who raised school bullying allegations against MONSTA X's Kihyun responds to Starship Entertainment's official statement\",\n",
       " 'lsrbpv': \"EXO's Chanyeol to reportedly enlist next month\",\n",
       " 'lsqrhi': 'Wonho - Lose',\n",
       " 'lsqd5f': 'CL - Wish You Were Here',\n",
       " 'lsowxb': 'Stray Kids Hyunjin posts Handwritten Apology for Recent Bullying Allegations',\n",
       " 'lsol9v': 'Brave Girls\\' \"Rollin\\'\" Goes Viral 4 Years After It\\'s Release',\n",
       " 'lsnwob': 'JYP Releases Statement Addressing Stray Kids’ Hyunjin School Bullying Accusations',\n",
       " 'lsm25s': 'BLACKPINK with a message on climate change on BBC News',\n",
       " 'lslnvo': 'DAY6 is preparing a new album &amp; they’re aiming to release it on April.',\n",
       " 'lsi5ps': \"More allegations suggest that Seventeen's Mingyu bullied a disabled classmate as well\",\n",
       " 'lshlk9': 'Former Classmate Debunks Accusation That (G)I-DLE’s Soojin Allegedly Bullied Actress Seo Shin Ae',\n",
       " 'lsd3o2': \"New allegations state that Seventeen's Mingyu sexually harassed a female student\",\n",
       " 'lsc69z': \"MONSTA X's Kihyun writes to fans as Starship Entertainment reveals his school records show no evidence of bullying\",\n",
       " 'ls8g51': 'Dreamcatcher - Official Light Stick (Preview + Sales Information)',\n",
       " 'ls7inp': \"BTS V's Mixtape Confirmed To Have 13 Tracks\",\n",
       " 'ls48qf': \"Comeback Stage: SHINee - Don't Call Me @ Mnet M Countdown (210225)\",\n",
       " 'ls3u29': \"Storage M Stage: (G)I-DLE Miyeon, Yuqi, Minnie X IZ*ONE Eunbi, Yena, Chaeyeon X Weki Meki Doyeon, Yoojung, Sei - Into The New World (orig. Girls' Generation / SNSD) @ Mnet M Countdown (210225)\",\n",
       " 'ls2btt': 'MAMAMOO Solar - Most Effective 4 Minute Workout @ Solarsido (210225)',\n",
       " 'ls2ajb': \"ATEEZ - Fireworks (I'm The One) (Performance Preview)\",\n",
       " 'ls27m9': \"T-ara Soyeon's longtime stalker breaks into her home &amp; makes death threats\",\n",
       " 'ls1ge8': 'MAMAMOO - Start of an Adventure (Acoustic ver.) + We Are All Friends (Hip Hop ver.) (Pokemon OST) (2021 MAMAMOO Fan Meeting Special Clip)',\n",
       " 'ls0rin': \"Former Girls' Generation's Jessica Launches Her Very Own Restaurant - Here's How The Food And Prices Are Looking\"}"
      ]
     },
     "metadata": {},
     "execution_count": 72
    }
   ],
   "source": [
    "post_ids_titles_dict"
   ]
  },
  {
   "source": [
    "## Saving to CSV"
   ],
   "cell_type": "markdown",
   "metadata": {}
  },
  {
   "cell_type": "code",
   "execution_count": 76,
   "metadata": {},
   "outputs": [
    {
     "output_type": "execute_result",
     "data": {
      "text/plain": [
       "       id                                              title  \\\n",
       "0  lwpgcl                                 iKON - Why Why Why   \n",
       "1  lwoei6  More Brands And Variety Shows Pull APRIL's Nae...   \n",
       "2  lwmn31  SHINee's Taemin awarded for being an exemplary...   \n",
       "3  lwmc3q  Dong Suh Foods Corporation halts promotions wi...   \n",
       "4  lwlmck  'Delicious Rendezvous' to edit out April's Nae...   \n",
       "\n",
       "                                            comments  \n",
       "0                                                 []  \n",
       "1                                                 []  \n",
       "2  [Korea has awards for everything. Im still not...  \n",
       "3  [DSP is fucked either way. DSP is literally su...  \n",
       "4  [She was the second celebrity that made me bin...  "
      ],
      "text/html": "<div>\n<style scoped>\n    .dataframe tbody tr th:only-of-type {\n        vertical-align: middle;\n    }\n\n    .dataframe tbody tr th {\n        vertical-align: top;\n    }\n\n    .dataframe thead th {\n        text-align: right;\n    }\n</style>\n<table border=\"1\" class=\"dataframe\">\n  <thead>\n    <tr style=\"text-align: right;\">\n      <th></th>\n      <th>id</th>\n      <th>title</th>\n      <th>comments</th>\n    </tr>\n  </thead>\n  <tbody>\n    <tr>\n      <th>0</th>\n      <td>lwpgcl</td>\n      <td>iKON - Why Why Why</td>\n      <td>[]</td>\n    </tr>\n    <tr>\n      <th>1</th>\n      <td>lwoei6</td>\n      <td>More Brands And Variety Shows Pull APRIL's Nae...</td>\n      <td>[]</td>\n    </tr>\n    <tr>\n      <th>2</th>\n      <td>lwmn31</td>\n      <td>SHINee's Taemin awarded for being an exemplary...</td>\n      <td>[Korea has awards for everything. Im still not...</td>\n    </tr>\n    <tr>\n      <th>3</th>\n      <td>lwmc3q</td>\n      <td>Dong Suh Foods Corporation halts promotions wi...</td>\n      <td>[DSP is fucked either way. DSP is literally su...</td>\n    </tr>\n    <tr>\n      <th>4</th>\n      <td>lwlmck</td>\n      <td>'Delicious Rendezvous' to edit out April's Nae...</td>\n      <td>[She was the second celebrity that made me bin...</td>\n    </tr>\n  </tbody>\n</table>\n</div>"
     },
     "metadata": {},
     "execution_count": 76
    }
   ],
   "source": [
    "def get_comments_from_obj(post_id):\n",
    "    # ratchet\n",
    "    post_id_mod = post_id + '-50'\n",
    "    if post_id_mod in comments:\n",
    "        return comments[post_id_mod]\n",
    "    else:\n",
    "        return None\n",
    "\n",
    "df = pd.DataFrame.from_dict(post_ids_titles_dict, orient='index')\n",
    "comments_as_series = df.reset_index()['index'].apply(lambda post_id: get_comments_from_obj(post_id))\n",
    "df = df.reset_index()\n",
    "df['comments'] = comments_as_series\n",
    "df.columns = ['id', 'title', 'comments']\n",
    "df.head()"
   ]
  },
  {
   "cell_type": "code",
   "execution_count": 77,
   "metadata": {},
   "outputs": [],
   "source": [
    "df.to_csv('data/rkpop-data-2021-03-04.csv', index=False)"
   ]
  },
  {
   "cell_type": "code",
   "execution_count": 4,
   "metadata": {},
   "outputs": [
    {
     "output_type": "execute_result",
     "data": {
      "text/plain": [
       "       id                                              title  \\\n",
       "0  lwpgcl                                 iKON - Why Why Why   \n",
       "1  lwoei6  More Brands And Variety Shows Pull APRIL's Nae...   \n",
       "2  lwmn31  SHINee's Taemin awarded for being an exemplary...   \n",
       "3  lwmc3q  Dong Suh Foods Corporation halts promotions wi...   \n",
       "4  lwlmck  'Delicious Rendezvous' to edit out April's Nae...   \n",
       "\n",
       "                                            comments  \n",
       "0                                                 []  \n",
       "1                                                 []  \n",
       "2  ['Korea has awards for everything. Im still no...  \n",
       "3  [\"DSP is fucked either way. DSP is literally s...  \n",
       "4  [\"She was the second celebrity that made me bi...  "
      ],
      "text/html": "<div>\n<style scoped>\n    .dataframe tbody tr th:only-of-type {\n        vertical-align: middle;\n    }\n\n    .dataframe tbody tr th {\n        vertical-align: top;\n    }\n\n    .dataframe thead th {\n        text-align: right;\n    }\n</style>\n<table border=\"1\" class=\"dataframe\">\n  <thead>\n    <tr style=\"text-align: right;\">\n      <th></th>\n      <th>id</th>\n      <th>title</th>\n      <th>comments</th>\n    </tr>\n  </thead>\n  <tbody>\n    <tr>\n      <th>0</th>\n      <td>lwpgcl</td>\n      <td>iKON - Why Why Why</td>\n      <td>[]</td>\n    </tr>\n    <tr>\n      <th>1</th>\n      <td>lwoei6</td>\n      <td>More Brands And Variety Shows Pull APRIL's Nae...</td>\n      <td>[]</td>\n    </tr>\n    <tr>\n      <th>2</th>\n      <td>lwmn31</td>\n      <td>SHINee's Taemin awarded for being an exemplary...</td>\n      <td>['Korea has awards for everything. Im still no...</td>\n    </tr>\n    <tr>\n      <th>3</th>\n      <td>lwmc3q</td>\n      <td>Dong Suh Foods Corporation halts promotions wi...</td>\n      <td>[\"DSP is fucked either way. DSP is literally s...</td>\n    </tr>\n    <tr>\n      <th>4</th>\n      <td>lwlmck</td>\n      <td>'Delicious Rendezvous' to edit out April's Nae...</td>\n      <td>[\"She was the second celebrity that made me bi...</td>\n    </tr>\n  </tbody>\n</table>\n</div>"
     },
     "metadata": {},
     "execution_count": 4
    }
   ],
   "source": [
    "data_df = pd.read_csv('data/rkpop-data-2021-03-04.csv')\n",
    "data_df.head()"
   ]
  },
  {
   "cell_type": "markdown",
   "metadata": {},
   "source": [
    "## Identify male vs female groups"
   ]
  },
  {
   "cell_type": "code",
   "execution_count": 43,
   "metadata": {
    "tags": []
   },
   "outputs": [],
   "source": [
    "m_f_mapping = {'male': {'EXO', 'NCT', 'BTS', 'Stray Kids', 'G-Dragon', 'Big Bang', \n",
    "                        'AB6IX', 'Golden Child', 'SEVENTEEN', 'Top Secret', 'TST', \n",
    "                        'ONEUS', 'TVXQ', 'PENTAGON', 'THE BOYZ', 'VERIVERY', 'Ravi', \n",
    "                        'WayV', 'VIXX', 'Super Junior', 'SHINee', 'Monsta X',\n",
    "                        'Block B', 'Zico', 'Treasure', 'iKON'},\n",
    "\n",
    "               'female': {'GFriend', \"Girl's Day\", 'Red Velvet', 'AOA', 'BLACKPINK', \n",
    "               'Momoland', 'miss A', 'MAMAMOO', 'ITZY', 'Sunmi', 'Weeekly', 'NiziU', \n",
    "               'NATTY', 'Twice', 'LOONA', 'After School', 'IU', 'IZ*ONE', 'WJSN', \n",
    "               'Cosmic Girls', 'DIA', 'CHUNGHA', 'SNSD', 'Cherry Bullet', 'Somi', \n",
    "               '(G)I-DLE', 'Apink', 'Yukika', 'Oh My Girl', 'Lee Hi',\n",
    "               'PURPLE K!SS', 'Singer Minty', 'Rocket Punch'}\n",
    "}\n",
    "m_f_mapping['male'] = {g.lower() for g in m_f_mapping['male']}\n",
    "m_f_mapping['female'] = {g.lower() for g in m_f_mapping['female']}\n",
    "\n"
   ]
  },
  {
   "cell_type": "markdown",
   "metadata": {},
   "source": [
    "## Tag submissions with male or female"
   ]
  },
  {
   "cell_type": "code",
   "execution_count": 44,
   "metadata": {},
   "outputs": [
    {
     "output_type": "stream",
     "name": "stderr",
     "text": [
      "/Users/hle/anaconda3/envs/gendered-discussion/lib/python3.8/site-packages/pandas/core/strings.py:1954: UserWarning: This pattern has match groups. To actually get the groups, use str.extract.\n  return func(self, *args, **kwargs)\n"
     ]
    }
   ],
   "source": [
    "# https://stackoverflow.com/questions/55941100/how-to-filter-pandas-dataframe-rows-which-contains-any-string-from-a-list\n",
    "data_df['female'] = data_df['title'].str.contains('|'.join(m_f_mapping['female']), case=False)\n",
    "data_df['male'] = data_df['title'].str.contains('|'.join(m_f_mapping['male']), case=False)"
   ]
  },
  {
   "cell_type": "code",
   "execution_count": 48,
   "metadata": {},
   "outputs": [
    {
     "output_type": "execute_result",
     "data": {
      "text/plain": [
       "        id                                              title  \\\n",
       "0   lwpgcl                                 iKON - Why Why Why   \n",
       "1   lwoei6  More Brands And Variety Shows Pull APRIL's Nae...   \n",
       "2   lwmn31  SHINee's Taemin awarded for being an exemplary...   \n",
       "3   lwmc3q  Dong Suh Foods Corporation halts promotions wi...   \n",
       "4   lwlmck  'Delicious Rendezvous' to edit out April's Nae...   \n",
       "5   lwjwkh  S. Korea to build state-run K-pop concert hall...   \n",
       "6   lwjk2z  ITZY Yeji to be the featured artist for \"M2 St...   \n",
       "7   lu71qn  Pledis releases a statement regarding Seventee...   \n",
       "8   lu3jz4                   Lights ON! We're ONF. Let's AMA!   \n",
       "9   lu35aa  Packed Circle Chart - K-Pop Groups and YouTube...   \n",
       "10  lu1cq0  Second accuser, owner of 'The North Face' jack...   \n",
       "11  ltna6n  Brave Girls achieve their first #1 on Bugs Cha...   \n",
       "12  ltm7mp  JYP Releases Statement Addressing Stray Kids’ ...   \n",
       "13  ltln4b                          Hi, I’m BIBI. Let's AMA!!   \n",
       "14  ltczoz  Halsey, MAX, And Lauv Show Support For BTS In ...   \n",
       "\n",
       "                                             comments  female   male  \n",
       "0                                                  []   False   True  \n",
       "1                                                  []   False  False  \n",
       "2   ['Korea has awards for everything. Im still no...   False   True  \n",
       "3   [\"DSP is fucked either way. DSP is literally s...   False  False  \n",
       "4   [\"She was the second celebrity that made me bi...   False  False  \n",
       "5   ['Yup, kiswe the one in charge for BTS online ...   False  False  \n",
       "6   ['Oh yes, I would love to see all of ITZYs dan...    True  False  \n",
       "7   [\"yeah they are a fan but they aren't 14 they'...   False   True  \n",
       "8                                                  []   False  False  \n",
       "9                                                  []   False  False  \n",
       "10                                                 []   False  False  \n",
       "11  ['[removed]', 'They’re so close to breaking in...    True   True  \n",
       "12                                                 []   False   True  \n",
       "13                                                 []   False  False  \n",
       "14  ['[removed]', \"I think they are regulated, but...   False   True  "
      ],
      "text/html": "<div>\n<style scoped>\n    .dataframe tbody tr th:only-of-type {\n        vertical-align: middle;\n    }\n\n    .dataframe tbody tr th {\n        vertical-align: top;\n    }\n\n    .dataframe thead th {\n        text-align: right;\n    }\n</style>\n<table border=\"1\" class=\"dataframe\">\n  <thead>\n    <tr style=\"text-align: right;\">\n      <th></th>\n      <th>id</th>\n      <th>title</th>\n      <th>comments</th>\n      <th>female</th>\n      <th>male</th>\n    </tr>\n  </thead>\n  <tbody>\n    <tr>\n      <th>0</th>\n      <td>lwpgcl</td>\n      <td>iKON - Why Why Why</td>\n      <td>[]</td>\n      <td>False</td>\n      <td>True</td>\n    </tr>\n    <tr>\n      <th>1</th>\n      <td>lwoei6</td>\n      <td>More Brands And Variety Shows Pull APRIL's Nae...</td>\n      <td>[]</td>\n      <td>False</td>\n      <td>False</td>\n    </tr>\n    <tr>\n      <th>2</th>\n      <td>lwmn31</td>\n      <td>SHINee's Taemin awarded for being an exemplary...</td>\n      <td>['Korea has awards for everything. Im still no...</td>\n      <td>False</td>\n      <td>True</td>\n    </tr>\n    <tr>\n      <th>3</th>\n      <td>lwmc3q</td>\n      <td>Dong Suh Foods Corporation halts promotions wi...</td>\n      <td>[\"DSP is fucked either way. DSP is literally s...</td>\n      <td>False</td>\n      <td>False</td>\n    </tr>\n    <tr>\n      <th>4</th>\n      <td>lwlmck</td>\n      <td>'Delicious Rendezvous' to edit out April's Nae...</td>\n      <td>[\"She was the second celebrity that made me bi...</td>\n      <td>False</td>\n      <td>False</td>\n    </tr>\n    <tr>\n      <th>5</th>\n      <td>lwjwkh</td>\n      <td>S. Korea to build state-run K-pop concert hall...</td>\n      <td>['Yup, kiswe the one in charge for BTS online ...</td>\n      <td>False</td>\n      <td>False</td>\n    </tr>\n    <tr>\n      <th>6</th>\n      <td>lwjk2z</td>\n      <td>ITZY Yeji to be the featured artist for \"M2 St...</td>\n      <td>['Oh yes, I would love to see all of ITZYs dan...</td>\n      <td>True</td>\n      <td>False</td>\n    </tr>\n    <tr>\n      <th>7</th>\n      <td>lu71qn</td>\n      <td>Pledis releases a statement regarding Seventee...</td>\n      <td>[\"yeah they are a fan but they aren't 14 they'...</td>\n      <td>False</td>\n      <td>True</td>\n    </tr>\n    <tr>\n      <th>8</th>\n      <td>lu3jz4</td>\n      <td>Lights ON! We're ONF. Let's AMA!</td>\n      <td>[]</td>\n      <td>False</td>\n      <td>False</td>\n    </tr>\n    <tr>\n      <th>9</th>\n      <td>lu35aa</td>\n      <td>Packed Circle Chart - K-Pop Groups and YouTube...</td>\n      <td>[]</td>\n      <td>False</td>\n      <td>False</td>\n    </tr>\n    <tr>\n      <th>10</th>\n      <td>lu1cq0</td>\n      <td>Second accuser, owner of 'The North Face' jack...</td>\n      <td>[]</td>\n      <td>False</td>\n      <td>False</td>\n    </tr>\n    <tr>\n      <th>11</th>\n      <td>ltna6n</td>\n      <td>Brave Girls achieve their first #1 on Bugs Cha...</td>\n      <td>['[removed]', 'They’re so close to breaking in...</td>\n      <td>True</td>\n      <td>True</td>\n    </tr>\n    <tr>\n      <th>12</th>\n      <td>ltm7mp</td>\n      <td>JYP Releases Statement Addressing Stray Kids’ ...</td>\n      <td>[]</td>\n      <td>False</td>\n      <td>True</td>\n    </tr>\n    <tr>\n      <th>13</th>\n      <td>ltln4b</td>\n      <td>Hi, I’m BIBI. Let's AMA!!</td>\n      <td>[]</td>\n      <td>False</td>\n      <td>False</td>\n    </tr>\n    <tr>\n      <th>14</th>\n      <td>ltczoz</td>\n      <td>Halsey, MAX, And Lauv Show Support For BTS In ...</td>\n      <td>['[removed]', \"I think they are regulated, but...</td>\n      <td>False</td>\n      <td>True</td>\n    </tr>\n  </tbody>\n</table>\n</div>"
     },
     "metadata": {},
     "execution_count": 48
    }
   ],
   "source": [
    "data_df.head(15)"
   ]
  },
  {
   "cell_type": "code",
   "execution_count": 47,
   "metadata": {},
   "outputs": [
    {
     "output_type": "execute_result",
     "data": {
      "text/plain": [
       "        id                                              title  \\\n",
       "11  ltna6n  Brave Girls achieve their first #1 on Bugs Cha...   \n",
       "\n",
       "                                             comments  female  male  \n",
       "11  ['[removed]', 'They’re so close to breaking in...    True  True  "
      ],
      "text/html": "<div>\n<style scoped>\n    .dataframe tbody tr th:only-of-type {\n        vertical-align: middle;\n    }\n\n    .dataframe tbody tr th {\n        vertical-align: top;\n    }\n\n    .dataframe thead th {\n        text-align: right;\n    }\n</style>\n<table border=\"1\" class=\"dataframe\">\n  <thead>\n    <tr style=\"text-align: right;\">\n      <th></th>\n      <th>id</th>\n      <th>title</th>\n      <th>comments</th>\n      <th>female</th>\n      <th>male</th>\n    </tr>\n  </thead>\n  <tbody>\n    <tr>\n      <th>11</th>\n      <td>ltna6n</td>\n      <td>Brave Girls achieve their first #1 on Bugs Cha...</td>\n      <td>['[removed]', 'They’re so close to breaking in...</td>\n      <td>True</td>\n      <td>True</td>\n    </tr>\n  </tbody>\n</table>\n</div>"
     },
     "metadata": {},
     "execution_count": 47
    }
   ],
   "source": [
    "# Checking if any overlapping...\n",
    "data_df[data_df['male'] & data_df['female']]"
   ]
  },
  {
   "source": [],
   "cell_type": "markdown",
   "metadata": {}
  },
  {
   "cell_type": "code",
   "execution_count": 50,
   "metadata": {},
   "outputs": [
    {
     "output_type": "execute_result",
     "data": {
      "text/plain": [
       "        id                                              title  \\\n",
       "0   lwpgcl                                 iKON - Why Why Why   \n",
       "2   lwmn31  SHINee's Taemin awarded for being an exemplary...   \n",
       "6   lwjk2z  ITZY Yeji to be the featured artist for \"M2 St...   \n",
       "7   lu71qn  Pledis releases a statement regarding Seventee...   \n",
       "11  ltna6n  Brave Girls achieve their first #1 on Bugs Cha...   \n",
       "12  ltm7mp  JYP Releases Statement Addressing Stray Kids’ ...   \n",
       "14  ltczoz  Halsey, MAX, And Lauv Show Support For BTS In ...   \n",
       "15  ltcu3m  W Magazine- George Clooney's dramatic reading ...   \n",
       "18  lt1ud1  Starship Entertainment Says That MONSTA X’s Ki...   \n",
       "20  lsz4y6  German radio show Bayern 3 apologizes for host...   \n",
       "21  lsz15v  German radio DJ under fire after alleged racis...   \n",
       "22  lsy8d5  SHINee - Don't Call Me (M2 Studio CHOOM - BE O...   \n",
       "24  lsuedo  ARMY goes to war after German radio D.J. criti...   \n",
       "25  lsuap0  BTS' 'Dynamite' earns its 31st music show win,...   \n",
       "26  lsu027  MONSTA X's Kihyun Reported To Have Met Up With...   \n",
       "28  lss0qb  Initial accuser who raised school bullying all...   \n",
       "29  lsrbpv     EXO's Chanyeol to reportedly enlist next month   \n",
       "32  lsowxb  Stray Kids Hyunjin posts Handwritten Apology f...   \n",
       "34  lsnwob  JYP Releases Statement Addressing Stray Kids’ ...   \n",
       "35  lsm25s  BLACKPINK with a message on climate change on ...   \n",
       "37  lsi5ps  More allegations suggest that Seventeen's Ming...   \n",
       "39  lsd3o2  New allegations state that Seventeen's Mingyu ...   \n",
       "40  lsc69z  MONSTA X's Kihyun writes to fans as Starship E...   \n",
       "42  ls7inp        BTS V's Mixtape Confirmed To Have 13 Tracks   \n",
       "43  ls48qf  Comeback Stage: SHINee - Don't Call Me @ Mnet ...   \n",
       "44  ls3u29  Storage M Stage: (G)I-DLE Miyeon, Yuqi, Minnie...   \n",
       "45  ls2btt  MAMAMOO Solar - Most Effective 4 Minute Workou...   \n",
       "48  ls1ge8  MAMAMOO - Start of an Adventure (Acoustic ver....   \n",
       "\n",
       "                                             comments  female   male  \n",
       "0                                                  []   False   True  \n",
       "2   ['Korea has awards for everything. Im still no...   False   True  \n",
       "6   ['Oh yes, I would love to see all of ITZYs dan...    True  False  \n",
       "7   [\"yeah they are a fan but they aren't 14 they'...   False   True  \n",
       "11  ['[removed]', 'They’re so close to breaking in...    True   True  \n",
       "12                                                 []   False   True  \n",
       "14  ['[removed]', \"I think they are regulated, but...   False   True  \n",
       "15  ['I think most longterm kpop fans dismissed th...   False   True  \n",
       "18  [\"I think your points are valid. I also think ...   False   True  \n",
       "20  ['[removed]', 'Waiting on your \"constructive\" ...   False   True  \n",
       "21  ['**This thread has been locked because people...   False   True  \n",
       "22  ['Seriously - no dieting, three square meals a...   False   True  \n",
       "24  ['[removed]', '[removed]', '[removed]', \"A lot...   False   True  \n",
       "25  ['[removed]', \"Yup. They might even get it wor...   False   True  \n",
       "26  [\"I'd say Cube takes the cake for bad PR moves...   False   True  \n",
       "28  ['These accusations get ridiculous every other...   False   True  \n",
       "29  ['I believe Tao was the best rapper in EXO by ...   False   True  \n",
       "32  ['Hey can you help? If you check my comment hi...   False   True  \n",
       "34  ['My company hires hundreds, if not 1000+ empl...   False   True  \n",
       "35  ['I said Boris Johnson zero times, as did the ...    True  False  \n",
       "37  ['What do the weebs do when the weeb king assa...   False   True  \n",
       "39  ['THANK YOU FOR HAVING BRAINCELLS', \"I had no ...   False   True  \n",
       "40  [\"Someone posting scars they have, pills they ...   False   True  \n",
       "42  ['[removed]', 'His vocal range is incredible a...   False   True  \n",
       "43  ['Shinee shining', 'He goes so hard for that l...   False   True  \n",
       "44  ['Best GG debut song ever. Yoojung is always s...    True  False  \n",
       "45  [\"That's a pretty cool workout routine, doesn'...    True  False  \n",
       "48  ['I think we should\\n\\n\\nI messaged their mods...    True  False  "
      ],
      "text/html": "<div>\n<style scoped>\n    .dataframe tbody tr th:only-of-type {\n        vertical-align: middle;\n    }\n\n    .dataframe tbody tr th {\n        vertical-align: top;\n    }\n\n    .dataframe thead th {\n        text-align: right;\n    }\n</style>\n<table border=\"1\" class=\"dataframe\">\n  <thead>\n    <tr style=\"text-align: right;\">\n      <th></th>\n      <th>id</th>\n      <th>title</th>\n      <th>comments</th>\n      <th>female</th>\n      <th>male</th>\n    </tr>\n  </thead>\n  <tbody>\n    <tr>\n      <th>0</th>\n      <td>lwpgcl</td>\n      <td>iKON - Why Why Why</td>\n      <td>[]</td>\n      <td>False</td>\n      <td>True</td>\n    </tr>\n    <tr>\n      <th>2</th>\n      <td>lwmn31</td>\n      <td>SHINee's Taemin awarded for being an exemplary...</td>\n      <td>['Korea has awards for everything. Im still no...</td>\n      <td>False</td>\n      <td>True</td>\n    </tr>\n    <tr>\n      <th>6</th>\n      <td>lwjk2z</td>\n      <td>ITZY Yeji to be the featured artist for \"M2 St...</td>\n      <td>['Oh yes, I would love to see all of ITZYs dan...</td>\n      <td>True</td>\n      <td>False</td>\n    </tr>\n    <tr>\n      <th>7</th>\n      <td>lu71qn</td>\n      <td>Pledis releases a statement regarding Seventee...</td>\n      <td>[\"yeah they are a fan but they aren't 14 they'...</td>\n      <td>False</td>\n      <td>True</td>\n    </tr>\n    <tr>\n      <th>11</th>\n      <td>ltna6n</td>\n      <td>Brave Girls achieve their first #1 on Bugs Cha...</td>\n      <td>['[removed]', 'They’re so close to breaking in...</td>\n      <td>True</td>\n      <td>True</td>\n    </tr>\n    <tr>\n      <th>12</th>\n      <td>ltm7mp</td>\n      <td>JYP Releases Statement Addressing Stray Kids’ ...</td>\n      <td>[]</td>\n      <td>False</td>\n      <td>True</td>\n    </tr>\n    <tr>\n      <th>14</th>\n      <td>ltczoz</td>\n      <td>Halsey, MAX, And Lauv Show Support For BTS In ...</td>\n      <td>['[removed]', \"I think they are regulated, but...</td>\n      <td>False</td>\n      <td>True</td>\n    </tr>\n    <tr>\n      <th>15</th>\n      <td>ltcu3m</td>\n      <td>W Magazine- George Clooney's dramatic reading ...</td>\n      <td>['I think most longterm kpop fans dismissed th...</td>\n      <td>False</td>\n      <td>True</td>\n    </tr>\n    <tr>\n      <th>18</th>\n      <td>lt1ud1</td>\n      <td>Starship Entertainment Says That MONSTA X’s Ki...</td>\n      <td>[\"I think your points are valid. I also think ...</td>\n      <td>False</td>\n      <td>True</td>\n    </tr>\n    <tr>\n      <th>20</th>\n      <td>lsz4y6</td>\n      <td>German radio show Bayern 3 apologizes for host...</td>\n      <td>['[removed]', 'Waiting on your \"constructive\" ...</td>\n      <td>False</td>\n      <td>True</td>\n    </tr>\n    <tr>\n      <th>21</th>\n      <td>lsz15v</td>\n      <td>German radio DJ under fire after alleged racis...</td>\n      <td>['**This thread has been locked because people...</td>\n      <td>False</td>\n      <td>True</td>\n    </tr>\n    <tr>\n      <th>22</th>\n      <td>lsy8d5</td>\n      <td>SHINee - Don't Call Me (M2 Studio CHOOM - BE O...</td>\n      <td>['Seriously - no dieting, three square meals a...</td>\n      <td>False</td>\n      <td>True</td>\n    </tr>\n    <tr>\n      <th>24</th>\n      <td>lsuedo</td>\n      <td>ARMY goes to war after German radio D.J. criti...</td>\n      <td>['[removed]', '[removed]', '[removed]', \"A lot...</td>\n      <td>False</td>\n      <td>True</td>\n    </tr>\n    <tr>\n      <th>25</th>\n      <td>lsuap0</td>\n      <td>BTS' 'Dynamite' earns its 31st music show win,...</td>\n      <td>['[removed]', \"Yup. They might even get it wor...</td>\n      <td>False</td>\n      <td>True</td>\n    </tr>\n    <tr>\n      <th>26</th>\n      <td>lsu027</td>\n      <td>MONSTA X's Kihyun Reported To Have Met Up With...</td>\n      <td>[\"I'd say Cube takes the cake for bad PR moves...</td>\n      <td>False</td>\n      <td>True</td>\n    </tr>\n    <tr>\n      <th>28</th>\n      <td>lss0qb</td>\n      <td>Initial accuser who raised school bullying all...</td>\n      <td>['These accusations get ridiculous every other...</td>\n      <td>False</td>\n      <td>True</td>\n    </tr>\n    <tr>\n      <th>29</th>\n      <td>lsrbpv</td>\n      <td>EXO's Chanyeol to reportedly enlist next month</td>\n      <td>['I believe Tao was the best rapper in EXO by ...</td>\n      <td>False</td>\n      <td>True</td>\n    </tr>\n    <tr>\n      <th>32</th>\n      <td>lsowxb</td>\n      <td>Stray Kids Hyunjin posts Handwritten Apology f...</td>\n      <td>['Hey can you help? If you check my comment hi...</td>\n      <td>False</td>\n      <td>True</td>\n    </tr>\n    <tr>\n      <th>34</th>\n      <td>lsnwob</td>\n      <td>JYP Releases Statement Addressing Stray Kids’ ...</td>\n      <td>['My company hires hundreds, if not 1000+ empl...</td>\n      <td>False</td>\n      <td>True</td>\n    </tr>\n    <tr>\n      <th>35</th>\n      <td>lsm25s</td>\n      <td>BLACKPINK with a message on climate change on ...</td>\n      <td>['I said Boris Johnson zero times, as did the ...</td>\n      <td>True</td>\n      <td>False</td>\n    </tr>\n    <tr>\n      <th>37</th>\n      <td>lsi5ps</td>\n      <td>More allegations suggest that Seventeen's Ming...</td>\n      <td>['What do the weebs do when the weeb king assa...</td>\n      <td>False</td>\n      <td>True</td>\n    </tr>\n    <tr>\n      <th>39</th>\n      <td>lsd3o2</td>\n      <td>New allegations state that Seventeen's Mingyu ...</td>\n      <td>['THANK YOU FOR HAVING BRAINCELLS', \"I had no ...</td>\n      <td>False</td>\n      <td>True</td>\n    </tr>\n    <tr>\n      <th>40</th>\n      <td>lsc69z</td>\n      <td>MONSTA X's Kihyun writes to fans as Starship E...</td>\n      <td>[\"Someone posting scars they have, pills they ...</td>\n      <td>False</td>\n      <td>True</td>\n    </tr>\n    <tr>\n      <th>42</th>\n      <td>ls7inp</td>\n      <td>BTS V's Mixtape Confirmed To Have 13 Tracks</td>\n      <td>['[removed]', 'His vocal range is incredible a...</td>\n      <td>False</td>\n      <td>True</td>\n    </tr>\n    <tr>\n      <th>43</th>\n      <td>ls48qf</td>\n      <td>Comeback Stage: SHINee - Don't Call Me @ Mnet ...</td>\n      <td>['Shinee shining', 'He goes so hard for that l...</td>\n      <td>False</td>\n      <td>True</td>\n    </tr>\n    <tr>\n      <th>44</th>\n      <td>ls3u29</td>\n      <td>Storage M Stage: (G)I-DLE Miyeon, Yuqi, Minnie...</td>\n      <td>['Best GG debut song ever. Yoojung is always s...</td>\n      <td>True</td>\n      <td>False</td>\n    </tr>\n    <tr>\n      <th>45</th>\n      <td>ls2btt</td>\n      <td>MAMAMOO Solar - Most Effective 4 Minute Workou...</td>\n      <td>[\"That's a pretty cool workout routine, doesn'...</td>\n      <td>True</td>\n      <td>False</td>\n    </tr>\n    <tr>\n      <th>48</th>\n      <td>ls1ge8</td>\n      <td>MAMAMOO - Start of an Adventure (Acoustic ver....</td>\n      <td>['I think we should\\n\\n\\nI messaged their mods...</td>\n      <td>True</td>\n      <td>False</td>\n    </tr>\n  </tbody>\n</table>\n</div>"
     },
     "metadata": {},
     "execution_count": 50
    }
   ],
   "source": [
    "data_df[data_df['male'] | data_df['female']]"
   ]
  },
  {
   "cell_type": "code",
   "execution_count": null,
   "metadata": {},
   "outputs": [],
   "source": []
  }
 ],
 "metadata": {
  "language_info": {
   "codemirror_mode": {
    "name": "ipython",
    "version": 3
   },
   "file_extension": ".py",
   "mimetype": "text/x-python",
   "name": "python",
   "nbconvert_exporter": "python",
   "pygments_lexer": "ipython3",
   "version": "3.8.3-final"
  },
  "orig_nbformat": 2,
  "kernelspec": {
   "name": "python3",
   "display_name": "Python 3.8.3 64-bit ('gendered-discussion': conda)",
   "metadata": {
    "interpreter": {
     "hash": "bf09b4e3f335374319013f661c0f97e23916c73d4fcdf12956eebe874fde012d"
    }
   }
  }
 },
 "nbformat": 4,
 "nbformat_minor": 2
}