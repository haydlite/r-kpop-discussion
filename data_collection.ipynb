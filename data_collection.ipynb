{
 "cells": [
  {
   "cell_type": "markdown",
   "metadata": {},
   "source": [
    "## Planning / Scratch Work"
   ]
  },
  {
   "cell_type": "markdown",
   "metadata": {},
   "source": [
    "Do /r/kpop commenters talk differently about male vs. female groups?\n",
    "\n",
    "Initial exploration of this question:\n",
    "- Identify submissions on 2 all-male groups, 2 all-female groups\n",
    "- Collect their comments\n",
    "- Contrast comments in general to \"typical\" reddit language (using /r/funny as a standard)\n",
    "- Contrast comments on male group vs female group "
   ]
  },
  {
   "cell_type": "markdown",
   "metadata": {},
   "source": [
    "Using Pushshift to get reddit comments\n",
    "\n",
    "See [Pushshift's GitHub API README](https://github.com/pushshift/api)\n",
    "\n",
    "> Search for the most recent comments mentioning the word \"science\" within the subreddit /r/askscience\n",
    ">\n",
    "> `https://api.pushshift.io/reddit/search/comment/?q=science&subreddit=askscience`\n",
    "\n",
    "Retrieve all comment ids for a submission object\n",
    "\n",
    "`https://api.pushshift.io/reddit/submission/comment_ids/{base36_submission_id}`\n",
    "\n",
    "[New to Pushshift FAQ](https://www.reddit.com/r/pushshift/comments/bcxguf/new_to_pushshift_read_this_faq/)\n",
    "\n",
    "[Pushshift Reddit API v4.0 Documentation](https://reddit-api.readthedocs.io/en/latest/#)"
   ]
  },
  {
   "cell_type": "markdown",
   "metadata": {},
   "source": [
    "Not-comprehensive related works:\n",
    "- \"A Community of Curious Souls: An Analysis of Commenting Behavior on TED Talks Videos\" (Tsou, Thelwall, Mongeon, and Sugimoto, 2014)\n",
    "- \"YouTube science channel video presenters and comments: female friendly or vestiges of sexism?\" (Thelwall and Mas-Bleda, 2018)\n",
    "- \"Shirtless and dangerous: Quantifying linguistic signals of gender bias in an online fiction writing community.\" (Fast, Vachovsky, and Bernstein, 2016)\n",
    "- \"Using language models to quantify gender bias in sports journalism\" (Fu, Danescu-Niculescu-Mizil, Lee, 2016)"
   ]
  },
  {
   "cell_type": "markdown",
   "metadata": {},
   "source": [
    "## Data Collection"
   ]
  },
  {
   "cell_type": "markdown",
   "metadata": {},
   "source": [
    "Import statements"
   ]
  },
  {
   "cell_type": "code",
   "execution_count": 7,
   "metadata": {},
   "outputs": [],
   "source": [
    "import string\n",
    "import re\n",
    "import requests\n",
    "import logging\n",
    "import pickle\n",
    "import json\n",
    "import time\n",
    "\n",
    "from collections import Counter\n",
    "\n",
    "from tqdm import tqdm\n",
    "\n",
    "import pandas as pd\n",
    "\n",
    "import nltk\n",
    "from nltk.corpus import stopwords\n",
    "\n",
    "from data_collection_utils import *\n",
    "\n",
    "ENGLISH_STOPWORDS = stopwords.words('english')"
   ]
  },
  {
   "cell_type": "markdown",
   "metadata": {},
   "source": [
    "## Pushshift Notes\n",
    "\n",
    "What are the values that we can access for each submission?\n",
    "\n",
    "```python\n",
    "> response.json()['data'][1].keys()\n",
    "\n",
    "> dict_keys(['all_awardings', 'allow_live_comments', 'author', 'author_flair_css_class', 'author_flair_richtext', 'author_flair_template_id', 'author_flair_text', \n",
    "'author_flair_text_color', 'author_flair_type', 'author_fullname', 'author_patreon_flair', 'author_premium', 'awarders', 'can_mod_post', 'contest_mode', 'created_utc', 'domain',\n",
    "'full_link', 'gildings', 'id', 'is_crosspostable', 'is_meta', 'is_original_content', 'is_reddit_media_domain', 'is_robot_indexable', 'is_self', 'is_video',\n",
    "'link_flair_background_color', 'link_flair_css_class', 'link_flair_richtext', 'link_flair_template_id', 'link_flair_text', 'link_flair_text_color', 'link_flair_type', 'locked',\n",
    "'media_only', 'no_follow', 'num_comments', 'num_crossposts', 'over_18', 'parent_whitelist_status', 'permalink', 'pinned', 'pwls', 'retrieved_on', 'score', 'selftext',\n",
    "'send_replies', 'spoiler', 'stickied', 'subreddit', 'subreddit_id', 'subreddit_subscribers', 'subreddit_type', 'thumbnail', 'title', 'total_awards_received', 'treatment_tags',\n",
    "'upvote_ratio', 'url', 'url_overridden_by_dest', 'whitelist_status', 'wls'])\n",
    "```\n",
    "\n",
    "Note that `created_utc` is given in unix timestamp\n",
    "\n",
    "```\n",
    "> [post['created_utc'] for post in response.json()['data']]\n",
    "\n",
    ">[1595657105,\n",
    " 1595641997,\n",
    " 1595632191,\n",
    " 1595623051,\n",
    " 1595602847,\n",
    " 1595599200,\n",
    " 1595583205,\n",
    " 1595581926,...\n",
    "```\n",
    "\n",
    "This tells us that newer posts are given first (i.e. order of posts in repsonse.json() is newest to oldest).\n",
    "\n",
    "What are the values that we can access for each comment?\n",
    "\n",
    "```python\n",
    "comments_json[0].keys()\n",
    "\n",
    "dict_keys(['all_awardings', 'approved_at_utc', 'associated_award', 'author', 'author_flair_background_color', 'author_flair_css_class', 'author_flair_richtext',\n",
    "'author_flair_template_id', 'author_flair_text', 'author_flair_text_color', 'author_flair_type', 'author_fullname', 'author_patreon_flair', 'author_premium', 'awarders',\n",
    "'banned_at_utc', 'body', 'can_mod_post', 'collapsed', 'collapsed_because_crowd_control', 'collapsed_reason', 'created_utc', 'distinguished', 'edited', 'gildings', 'id', \n",
    "'is_submitter', 'link_id', 'locked', 'no_follow', 'parent_id', 'permalink', 'retrieved_on', 'score', 'send_replies', 'stickied', 'subreddit', 'subreddit_id', 'top_awarded_type', \n",
    "'total_awards_received', 'treatment_tags'])\n",
    "   \n",
    "```\n"
   ]
  },
  {
   "cell_type": "code",
   "execution_count": 4,
   "metadata": {
    "tags": []
   },
   "outputs": [],
   "source": [
    "# # Collect 1000 posts\n",
    "# posts = []\n",
    "# oldest_post_utc = None\n",
    "# while len(posts) < 1000:\n",
    "#     if oldest_post_id is None:\n",
    "#         posts = data_collection_utils.collect_posts()\n",
    "#         oldest_post_utc = posts[-1]['created_utc']\n",
    "#     else:\n",
    "#         print('oldest_post_utc: {}'.format(oldest_post_utc))\n",
    "#         time.sleep(1)\n",
    "#         older_posts = data_collection_utils.collect_posts(before=oldest_post_utc)\n",
    "#         oldest_post_utc = older_posts[-1]['created_utc']\n",
    "#         posts.extend(older_posts)\n",
    "\n",
    "# save_data(posts, 'data/rkpop-1000-posts.pkl')\n",
    "# # test_load = load_data('rkpop-1000-posts.pkl')\n",
    "# # assert test_load == posts"
   ]
  },
  {
   "cell_type": "code",
   "execution_count": 8,
   "metadata": {},
   "outputs": [],
   "source": [
    "posts = load_data('data/rkpop-1000-posts.pkl')"
   ]
  },
  {
   "cell_type": "code",
   "execution_count": 9,
   "metadata": {},
   "outputs": [
    {
     "output_type": "execute_result",
     "data": {
      "text/plain": "1000"
     },
     "metadata": {},
     "execution_count": 9
    }
   ],
   "source": [
    "post_ids = [post['id'] for post in posts]\n",
    "len(set(post_ids))"
   ]
  },
  {
   "cell_type": "code",
   "execution_count": 241,
   "metadata": {},
   "outputs": [],
   "source": [
    "from multiprocessing import Pool\n",
    "import multiprocessing\n",
    "\n",
    "num_cpu = multiprocessing.cpu_count()"
   ]
  },
  {
   "cell_type": "code",
   "execution_count": 11,
   "metadata": {
    "tags": []
   },
   "outputs": [
    {
     "output_type": "stream",
     "name": "stderr",
     "text": "0%|          | 0/1000 [00:00<?, ?it/s]WARNING:root:Post hw59mc has more than 500 comments; only 500 most recent comments will be collected\nWARNING:root:Post hvqe4a has more than 500 comments; only 500 most recent comments will be collected\nWARNING:root:Post hudowa has more than 500 comments; only 500 most recent comments will be collected\nWARNING:root:Post hl51r4 has more than 500 comments; only 500 most recent comments will be collected\nWARNING:root:Post hkr77t has more than 500 comments; only 500 most recent comments will be collected\nWARNING:root:Post hi7480 has more than 500 comments; only 500 most recent comments will be collected\nWARNING:root:Post fzy9ej has more than 500 comments; only 500 most recent comments will be collected\nWARNING:root:Post ejcndg has more than 500 comments; only 500 most recent comments will be collected\nWARNING:root:Post ej970r has more than 500 comments; only 500 most recent comments will be collected\nWARNING:root:Post dsgb10 has more than 500 comments; only 500 most recent comments will be collected\nWARNING:root:Post dpxuuh has more than 500 comments; only 500 most recent comments will be collected\nWARNING:root:Post dpkbds has more than 500 comments; only 500 most recent comments will be collected\nWARNING:root:Post do701l has more than 500 comments; only 500 most recent comments will be collected\nWARNING:root:Post do2nry has more than 500 comments; only 500 most recent comments will be collected\nWARNING:root:Post dhnq90 has more than 500 comments; only 500 most recent comments will be collected\nWARNING:root:Post dhj3id has more than 500 comments; only 500 most recent comments will be collected\nWARNING:root:Post dgqfga has more than 500 comments; only 500 most recent comments will be collected\n 59%|█████▉    | 592/1000 [00:00<00:00, 5911.38it/s]WARNING:root:Post dd2697 has more than 500 comments; only 500 most recent comments will be collected\nWARNING:root:Post dcaqb3 has more than 500 comments; only 500 most recent comments will be collected\nWARNING:root:Post dbhax9 has more than 500 comments; only 500 most recent comments will be collected\nWARNING:root:Post d83wpf has more than 500 comments; only 500 most recent comments will be collected\n100%|██████████| 1000/1000 [04:28<00:00,  3.72it/s]\n"
    }
   ],
   "source": [
    "# Collect comments for the posts\n",
    "# with Pool(10) as p:\n",
    "#     comments = p.map(collect_comment, posts)\n",
    "\n",
    "# Decided to do it serially because multiprocessing was getting my IP blocked?\n",
    "\n",
    "comments = []\n",
    "for post in tqdm(posts):\n",
    "    comments.append(collect_comment(post, size_to_collect=500)) # Actually, max to collect at once is 100....\n",
    "\n",
    "save_data(comments, 'data/rkpop-1000-comments.pkl')"
   ]
  },
  {
   "cell_type": "code",
   "execution_count": 12,
   "metadata": {},
   "outputs": [],
   "source": [
    "# NONBREAKING: Rename the 500 files to 100"
   ]
  },
  {
   "cell_type": "code",
   "execution_count": 15,
   "metadata": {},
   "outputs": [],
   "source": [
    "import glob"
   ]
  },
  {
   "cell_type": "code",
   "execution_count": 14,
   "metadata": {},
   "outputs": [],
   "source": [
    "save_data(comments, 'data/rkpop-1000-comments.pkl')"
   ]
  },
  {
   "cell_type": "code",
   "execution_count": 25,
   "metadata": {
    "tags": []
   },
   "outputs": [],
   "source": [
    "# for comment_pkl in glob.glob('data/comments/*'):\n",
    "#     print(len(load_data(comment_pkl))) \n",
    "# ??? Some sort f collection error... fewer than 50 for many"
   ]
  },
  {
   "cell_type": "code",
   "execution_count": 56,
   "metadata": {},
   "outputs": [],
   "source": [
    "comments = {}\n",
    "for filename in glob.glob('data/comments/*'):\n",
    "    start = filename.rindex('/') + 1\n",
    "    end = filename.rindex('-')\n",
    "    post_id = filename[start:end]\n",
    "    comments[post_id] = load_data(filename)"
   ]
  },
  {
   "cell_type": "code",
   "execution_count": 57,
   "metadata": {},
   "outputs": [],
   "source": [
    "save_data(comments, 'data/rkpop-3000-comments.pkl')"
   ]
  },
  {
   "cell_type": "code",
   "execution_count": 44,
   "metadata": {},
   "outputs": [
    {
     "output_type": "execute_result",
     "data": {
      "text/plain": "dict_keys(['huclsf', 'htuc60', 'hvskyu', 'hucjmo', 'hu9rcu', 'huzmb5', 'hwtrm6', 'hrp506', 'hv2356', 'ho4kpi', 'hu3597', 'huu5n2', 'huvuwp', 'hu7vo3', 'hvtdw0', 'hv1ebo', 'huzsvw', 'hqyxzz', 'hrc8b0', 'hrljep', 'hub1jr', 'hvj3uw', 'hvka7v', 'hvj615', 'hudp5x', 'htybex', 'hx29od', 'hw0msh', 'huxala', 'hudowa', 'hrp4jz', 'hv8u2z', 'hxc2tq', 'hv422q', 'hxhvbk', 'hudxp1', 'hvvai2', 'htpot9', 'hvvasx', 'hwyk30', 'hu5qlw', 'hv41za', 'humrj9', 'hx3a8s', 'hvrr9j', 'hvqe4a', 'hub3bl', 'hvqpny', 'hui3wc', 'htvhtn', 'hvvaiq', 'hvs5o0', 'huoafl', 'hudqes', 'hx9kq3', 'hv7a2v', 'hrfis5', 'hubz5p', 'hxekwy', 'hv1n7f', 'husgf7', 'humrtx', 'hujyqp', 'hwg5tm', 'hu0d49', 'hvt82o', 'htujl0', 'hr34w6', 'hv4vrd'])"
     },
     "metadata": {},
     "execution_count": 44
    }
   ],
   "source": [
    "comments.keys()"
   ]
  },
  {
   "cell_type": "code",
   "execution_count": 64,
   "metadata": {},
   "outputs": [],
   "source": [
    "post_ids = [p['id'] for p in posts]\n",
    "post_titles = [p['title'] for p in posts]\n",
    "\n",
    "post_ids_titles_dict = dict(zip(post_ids, post_titles))"
   ]
  },
  {
   "cell_type": "code",
   "execution_count": 59,
   "metadata": {},
   "outputs": [
    {
     "output_type": "execute_result",
     "data": {
      "text/plain": "[\"BTS ISN'T THAT GOOD, THEY LOOK GAY\",\n \"I'm really just venting/ranting because people were responsible for the safety of that stage, but failed to do their job. This could be career-altering and life-changing. They ruined this year for her and potentially limited her career.\\n\\nLike I said, it's good that she's recovering well. We all knew from the beginning that she would recover. It's the uncertainty after recovery that I'm worried about. It just might be too troublesome continue her career after because injuries can have lasting effects on the human body long after recovery. No young person should have to deal with that.\",\n \"Can I just clarify that my original post meant that they got away with allowing for a dangerous set up in the first place? The injury should never have occurred and i find it really bizarre that defending SBS seems to be the hill that you're wanting to die on. I'm just expressing my frustrations that such shitty working environments are created for idols in the first place, let alone all the other crap they go through. I don't really care about the extent of the compensation that they would offer only that even if they were to comprehensively cover her fees and loss of profits, it'd be the bare minimum for the injury that she sustained whilst performing there.\\n\\nI can't imagine why you're interested in still contesting this apart from either bring a #hailcorporate type or a contrarian for the sake of it. I'm not going continue aruging why I am allowed to be angry at SBS for their negligence.\",\n \"&gt; I'm not completely up to speed on how they've handled it but I haven't seen much from SBS apart from their initial mismanagement, the police investigation and supposedly them providing some compensation for medical costs.\\n\\nBecause they aren't going to make shit like that public. This stuff is nearly always handled behind closed doors to make it easier on everyone involved, including Wendy.\\n\\n&gt; I'm just angry/concerned for Wendy because so often it's the individual who gets screwed over by large companies due to things like work injuries and hazards\\n\\nMy entire point is we don't actually know that as most of the time these things aren't public. We can only assume\",\n 'Most Reveluvs did that because there was no information about her injuries earlier on. Your concern is valid, but all over this thread you have been painting it as a definite, 100% thing, when it is pure speculation.']"
     },
     "metadata": {},
     "execution_count": 59
    }
   ],
   "source": [
    "comments['huclsf'][:5]"
   ]
  },
  {
   "cell_type": "code",
   "execution_count": 60,
   "metadata": {},
   "outputs": [
    {
     "output_type": "execute_result",
     "data": {
      "text/plain": "['definitely, i was so sad to see them not make it far :(',\n \"and the best group on that show but we're not ready for that conversation yet\",\n 'Oh yeah, Bomin is definitely helping their group get recognized but I think a good chunk of people don’t even know he’s an idol because he’s so good at acting!',\n \"Yess, my boys deserve even more success! I've been following them since their Let Me comeback and there isn't really a song I didn't like from them (but Crush is still my favorite)!\\nGo GolCha!\",\n \"They really worked so hard for this promotion I'm so so happy to see this, they've suffered so much through 2019 because of the hiatus and then seeing them crying on that circus show made my heart break again but I'm happy that they've left those memories behind and seem happier these days. Realise how golcha has never mentioned RTK at all since leaving that shit lmao\"]"
     },
     "metadata": {},
     "execution_count": 60
    }
   ],
   "source": [
    "comments['htuc60'][:5]"
   ]
  },
  {
   "cell_type": "code",
   "execution_count": 52,
   "metadata": {},
   "outputs": [
    {
     "output_type": "execute_result",
     "data": {
      "text/plain": "dict_keys(['huclsf', 'htuc60', 'hvskyu', 'hucjmo', 'hu9rcu', 'huzmb5', 'hwtrm6', 'hrp506', 'hv2356', 'ho4kpi', 'hu3597', 'huu5n2', 'huvuwp', 'hu7vo3', 'hvtdw0', 'hv1ebo', 'huzsvw', 'hqyxzz', 'hrc8b0', 'hrljep', 'hub1jr', 'hvj3uw', 'hvka7v', 'hvj615', 'hudp5x', 'htybex', 'hx29od', 'hw0msh', 'huxala', 'hudowa', 'hrp4jz', 'hv8u2z', 'hxc2tq', 'hv422q', 'hxhvbk', 'hudxp1', 'hvvai2', 'htpot9', 'hvvasx', 'hwyk30', 'hu5qlw', 'hv41za', 'humrj9', 'hx3a8s', 'hvrr9j', 'hvqe4a', 'hub3bl', 'hvqpny', 'hui3wc', 'htvhtn', 'hvvaiq', 'hvs5o0', 'huoafl', 'hudqes', 'hx9kq3', 'hv7a2v', 'hrfis5', 'hubz5p', 'hxekwy', 'hv1n7f', 'husgf7', 'humrtx', 'hujyqp', 'hwg5tm', 'hu0d49', 'hvt82o', 'htujl0', 'hr34w6', 'hv4vrd'])"
     },
     "metadata": {},
     "execution_count": 52
    }
   ],
   "source": [
    "comments.keys()"
   ]
  },
  {
   "cell_type": "markdown",
   "metadata": {},
   "source": [
    "## Loading from saved CSV"
   ]
  },
  {
   "cell_type": "code",
   "execution_count": 72,
   "metadata": {},
   "outputs": [
    {
     "output_type": "execute_result",
     "data": {
      "text/plain": "     index                                                  0\n0   hxhvbk  Mamamoo Wheein - Candy (orig. Baekhyun) (Speci...\n1   hxekwy  Red Velvet - IRENE &amp; SEULGI - Monster (Two...\n2   hxc2tq  BLACKPINK Lisa Appointed as Ambassador for BVL...\n3   hx9kq3  The Rolling Stone included 9 K-Pop Boygroup so...\n4   hx3a8s  PURPLE K!SS - Debut Trailer : WH0 CARES? - 유키 ...\n..     ...                                                ...\n95  ho4kzo             EXO-SC - On Me (Sehun Solo - Track MV)\n96  ho4kpi                      GFriend - Apple (MV Teaser 1)\n97  hnin4k              Happy 10th Anniversary to Girl's Day!\n98  hm9ctk                  Happy 4th anniversary to NCT 127!\n99  hm9cak  Red Velvet - IRENE &amp; SEULGI - Monster Musi...\n\n[100 rows x 2 columns]",
      "text/html": "<div>\n<style scoped>\n    .dataframe tbody tr th:only-of-type {\n        vertical-align: middle;\n    }\n\n    .dataframe tbody tr th {\n        vertical-align: top;\n    }\n\n    .dataframe thead th {\n        text-align: right;\n    }\n</style>\n<table border=\"1\" class=\"dataframe\">\n  <thead>\n    <tr style=\"text-align: right;\">\n      <th></th>\n      <th>index</th>\n      <th>0</th>\n    </tr>\n  </thead>\n  <tbody>\n    <tr>\n      <th>0</th>\n      <td>hxhvbk</td>\n      <td>Mamamoo Wheein - Candy (orig. Baekhyun) (Speci...</td>\n    </tr>\n    <tr>\n      <th>1</th>\n      <td>hxekwy</td>\n      <td>Red Velvet - IRENE &amp;amp; SEULGI - Monster (Two...</td>\n    </tr>\n    <tr>\n      <th>2</th>\n      <td>hxc2tq</td>\n      <td>BLACKPINK Lisa Appointed as Ambassador for BVL...</td>\n    </tr>\n    <tr>\n      <th>3</th>\n      <td>hx9kq3</td>\n      <td>The Rolling Stone included 9 K-Pop Boygroup so...</td>\n    </tr>\n    <tr>\n      <th>4</th>\n      <td>hx3a8s</td>\n      <td>PURPLE K!SS - Debut Trailer : WH0 CARES? - 유키 ...</td>\n    </tr>\n    <tr>\n      <th>...</th>\n      <td>...</td>\n      <td>...</td>\n    </tr>\n    <tr>\n      <th>95</th>\n      <td>ho4kzo</td>\n      <td>EXO-SC - On Me (Sehun Solo - Track MV)</td>\n    </tr>\n    <tr>\n      <th>96</th>\n      <td>ho4kpi</td>\n      <td>GFriend - Apple (MV Teaser 1)</td>\n    </tr>\n    <tr>\n      <th>97</th>\n      <td>hnin4k</td>\n      <td>Happy 10th Anniversary to Girl's Day!</td>\n    </tr>\n    <tr>\n      <th>98</th>\n      <td>hm9ctk</td>\n      <td>Happy 4th anniversary to NCT 127!</td>\n    </tr>\n    <tr>\n      <th>99</th>\n      <td>hm9cak</td>\n      <td>Red Velvet - IRENE &amp;amp; SEULGI - Monster Musi...</td>\n    </tr>\n  </tbody>\n</table>\n<p>100 rows × 2 columns</p>\n</div>"
     },
     "metadata": {},
     "execution_count": 72
    }
   ],
   "source": [
    "df.reset_index()"
   ]
  },
  {
   "cell_type": "code",
   "execution_count": 74,
   "metadata": {},
   "outputs": [],
   "source": [
    "def get_comments_from_obj(post_id):\n",
    "    if post_id in comments:\n",
    "        return comments[post_id]\n",
    "    else:\n",
    "        return None"
   ]
  },
  {
   "cell_type": "code",
   "execution_count": 93,
   "metadata": {},
   "outputs": [
    {
     "output_type": "execute_result",
     "data": {
      "text/plain": "        id                                              title  \\\n0   hxhvbk  Mamamoo Wheein - Candy (orig. Baekhyun) (Speci...   \n1   hxekwy  Red Velvet - IRENE &amp; SEULGI - Monster (Two...   \n2   hxc2tq  BLACKPINK Lisa Appointed as Ambassador for BVL...   \n3   hx9kq3  The Rolling Stone included 9 K-Pop Boygroup so...   \n4   hx3a8s  PURPLE K!SS - Debut Trailer : WH0 CARES? - 유키 ...   \n..     ...                                                ...   \n95  ho4kzo             EXO-SC - On Me (Sehun Solo - Track MV)   \n96  ho4kpi                      GFriend - Apple (MV Teaser 1)   \n97  hnin4k              Happy 10th Anniversary to Girl's Day!   \n98  hm9ctk                  Happy 4th anniversary to NCT 127!   \n99  hm9cak  Red Velvet - IRENE &amp; SEULGI - Monster Musi...   \n\n                                             comments  \n0   [I'm so happy she didn't change the pronouns, ...  \n1   [RV never ever created a bad song, let alone a...  \n2   [count me in, what about Hera?, anyone partner...  \n3   [Lol @ the strawman, Man I'm reading through t...  \n4   [Yes Indeed, it\\`s a classic produce thing whe...  \n..                                                ...  \n95                                               None  \n96  [Obvious girl detected, lol. Gfriend is for me...  \n97                                               None  \n98                                               None  \n99                                               None  \n\n[100 rows x 3 columns]",
      "text/html": "<div>\n<style scoped>\n    .dataframe tbody tr th:only-of-type {\n        vertical-align: middle;\n    }\n\n    .dataframe tbody tr th {\n        vertical-align: top;\n    }\n\n    .dataframe thead th {\n        text-align: right;\n    }\n</style>\n<table border=\"1\" class=\"dataframe\">\n  <thead>\n    <tr style=\"text-align: right;\">\n      <th></th>\n      <th>id</th>\n      <th>title</th>\n      <th>comments</th>\n    </tr>\n  </thead>\n  <tbody>\n    <tr>\n      <th>0</th>\n      <td>hxhvbk</td>\n      <td>Mamamoo Wheein - Candy (orig. Baekhyun) (Speci...</td>\n      <td>[I'm so happy she didn't change the pronouns, ...</td>\n    </tr>\n    <tr>\n      <th>1</th>\n      <td>hxekwy</td>\n      <td>Red Velvet - IRENE &amp;amp; SEULGI - Monster (Two...</td>\n      <td>[RV never ever created a bad song, let alone a...</td>\n    </tr>\n    <tr>\n      <th>2</th>\n      <td>hxc2tq</td>\n      <td>BLACKPINK Lisa Appointed as Ambassador for BVL...</td>\n      <td>[count me in, what about Hera?, anyone partner...</td>\n    </tr>\n    <tr>\n      <th>3</th>\n      <td>hx9kq3</td>\n      <td>The Rolling Stone included 9 K-Pop Boygroup so...</td>\n      <td>[Lol @ the strawman, Man I'm reading through t...</td>\n    </tr>\n    <tr>\n      <th>4</th>\n      <td>hx3a8s</td>\n      <td>PURPLE K!SS - Debut Trailer : WH0 CARES? - 유키 ...</td>\n      <td>[Yes Indeed, it\\`s a classic produce thing whe...</td>\n    </tr>\n    <tr>\n      <th>...</th>\n      <td>...</td>\n      <td>...</td>\n      <td>...</td>\n    </tr>\n    <tr>\n      <th>95</th>\n      <td>ho4kzo</td>\n      <td>EXO-SC - On Me (Sehun Solo - Track MV)</td>\n      <td>None</td>\n    </tr>\n    <tr>\n      <th>96</th>\n      <td>ho4kpi</td>\n      <td>GFriend - Apple (MV Teaser 1)</td>\n      <td>[Obvious girl detected, lol. Gfriend is for me...</td>\n    </tr>\n    <tr>\n      <th>97</th>\n      <td>hnin4k</td>\n      <td>Happy 10th Anniversary to Girl's Day!</td>\n      <td>None</td>\n    </tr>\n    <tr>\n      <th>98</th>\n      <td>hm9ctk</td>\n      <td>Happy 4th anniversary to NCT 127!</td>\n      <td>None</td>\n    </tr>\n    <tr>\n      <th>99</th>\n      <td>hm9cak</td>\n      <td>Red Velvet - IRENE &amp;amp; SEULGI - Monster Musi...</td>\n      <td>None</td>\n    </tr>\n  </tbody>\n</table>\n<p>100 rows × 3 columns</p>\n</div>"
     },
     "metadata": {},
     "execution_count": 93
    }
   ],
   "source": [
    "df = pd.DataFrame.from_dict(post_ids_titles_dict, orient='index')\n",
    "comments_as_series = df.reset_index()['index'].apply(lambda post_id: get_comments_from_obj(post_id))\n",
    "df = df.reset_index()\n",
    "df['comments'] = comments_as_series\n",
    "df.columns = ['id', 'title', 'comments']\n",
    "df"
   ]
  },
  {
   "cell_type": "code",
   "execution_count": 94,
   "metadata": {},
   "outputs": [],
   "source": [
    "df.to_csv('data/rkpop-data-2020-08-01.csv',index=False)"
   ]
  },
  {
   "cell_type": "code",
   "execution_count": 95,
   "metadata": {},
   "outputs": [],
   "source": [
    "data_df = pd.read_csv('data/rkpop-data-2020-08-01.csv')"
   ]
  },
  {
   "cell_type": "markdown",
   "metadata": {},
   "source": [
    "Identify male vs female groups"
   ]
  },
  {
   "cell_type": "code",
   "execution_count": 148,
   "metadata": {
    "tags": []
   },
   "outputs": [],
   "source": [
    "m_f_mapping = {'male': {'EXO', 'NCT', 'BTS', 'Stray Kids', 'G-Dragon', 'Big Bang', \n",
    "                        'AB6IX', 'Golden Child', 'SEVENTEEN', 'Top Secret', 'TST', \n",
    "                        'ONEUS', 'TVXQ', 'PENTAGON', 'THE BOYZ', 'VERIVERY', 'Ravi', \n",
    "                        'WayV', 'VIXX', 'Super Junior', 'SHINee', 'Monsta X',\n",
    "                        'Block B', 'Zico', 'Treasure'},\n",
    "\n",
    "               'female': {'GFriend', \"Girl's Day\", 'Red Velvet', 'AOA', 'BLACKPINK', \n",
    "               'Momoland', 'miss A', 'MAMAMOO', 'ITZY', 'Sunmi', 'Weeekly', 'NiziU', \n",
    "               'NATTY', 'Twice', 'LOONA', 'After School', 'IU', 'IZ*ONE', 'WJSN', \n",
    "               'Cosmic Girls', 'DIA', 'CHUNGHA', 'SNSD', 'Cherry Bullet', 'Somi', \n",
    "               '(G)I-DLE', 'Apink', 'Yukika', 'Oh My Girl', 'Lee Hi',\n",
    "               'PURPLE K!SS', 'Singer Minty', 'Rocket Punch'}\n",
    "}\n",
    "m_f_mapping['male'] = {g.lower() for g in m_f_mapping['male']}\n",
    "m_f_mapping['female'] = {g.lower() for g in m_f_mapping['female']}\n",
    "\n"
   ]
  },
  {
   "cell_type": "markdown",
   "metadata": {},
   "source": [
    "Tag submissions with male or female"
   ]
  },
  {
   "cell_type": "code",
   "execution_count": 151,
   "metadata": {},
   "outputs": [
    {
     "output_type": "execute_result",
     "data": {
      "text/plain": "        id                                              title comments  male  \\\n85  hrc2pf  EXO-SC, MAMAMOO, Red Velvet Irene &amp; Seulgi...      NaN  True   \n\n    female  \n85    True  ",
      "text/html": "<div>\n<style scoped>\n    .dataframe tbody tr th:only-of-type {\n        vertical-align: middle;\n    }\n\n    .dataframe tbody tr th {\n        vertical-align: top;\n    }\n\n    .dataframe thead th {\n        text-align: right;\n    }\n</style>\n<table border=\"1\" class=\"dataframe\">\n  <thead>\n    <tr style=\"text-align: right;\">\n      <th></th>\n      <th>id</th>\n      <th>title</th>\n      <th>comments</th>\n      <th>male</th>\n      <th>female</th>\n    </tr>\n  </thead>\n  <tbody>\n    <tr>\n      <th>85</th>\n      <td>hrc2pf</td>\n      <td>EXO-SC, MAMAMOO, Red Velvet Irene &amp;amp; Seulgi...</td>\n      <td>NaN</td>\n      <td>True</td>\n      <td>True</td>\n    </tr>\n  </tbody>\n</table>\n</div>"
     },
     "metadata": {},
     "execution_count": 151
    }
   ],
   "source": [
    "# Checking if any overlapping...\n",
    "data_df[data_df['male'] & data_df['female']]"
   ]
  }
 ],
 "metadata": {
  "language_info": {
   "codemirror_mode": {
    "name": "ipython",
    "version": 3
   },
   "file_extension": ".py",
   "mimetype": "text/x-python",
   "name": "python",
   "nbconvert_exporter": "python",
   "pygments_lexer": "ipython3",
   "version": "3.8.3-final"
  },
  "orig_nbformat": 2,
  "kernelspec": {
   "name": "python_defaultSpec_1596329839991",
   "display_name": "Python 3.8.3 64-bit ('gendered-discussion': conda)"
  }
 },
 "nbformat": 4,
 "nbformat_minor": 2
}