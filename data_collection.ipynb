{
 "cells": [
  {
   "cell_type": "markdown",
   "metadata": {},
   "source": [
    "Do /r/kpop commenters talk differently about male vs. female groups?\n",
    "\n",
    "Initial exploration of this question:\n",
    "- Identify submissions on 2 all-male groups, 2 all-female groups\n",
    "- Collect their comments\n",
    "- Contrast comments in general to \"typical\" reddit language (using /r/funny as a standard)\n",
    "- Contrast comments on male group vs female group "
   ]
  },
  {
   "cell_type": "markdown",
   "metadata": {},
   "source": [
    "Using Pushshift to get reddit comments\n",
    "\n",
    "See [Pushshift's GitHub API README](https://github.com/pushshift/api)\n",
    "\n",
    "> Search for the most recent comments mentioning the word \"science\" within the subreddit /r/askscience\n",
    ">\n",
    "> `https://api.pushshift.io/reddit/search/comment/?q=science&subreddit=askscience`\n",
    "\n",
    "[New to Pushshift FAQ](https://www.reddit.com/r/pushshift/comments/bcxguf/new_to_pushshift_read_this_faq/)"
   ]
  },
  {
   "cell_type": "code",
   "execution_count": 11,
   "metadata": {},
   "outputs": [],
   "source": [
    "import csv\n",
    "import requests\n",
    "import sys\n",
    "import json\n",
    "\n",
    "import pandas as pd\n",
    "from bs4 import BeautifulSoup"
   ]
  },
  {
   "cell_type": "code",
   "execution_count": 86,
   "metadata": {},
   "outputs": [
    {
     "output_type": "execute_result",
     "data": {
      "text/plain": "dict_keys(['all_awardings', 'allow_live_comments', 'author', 'author_flair_css_class', 'author_flair_richtext', 'author_flair_template_id', 'author_flair_text', 'author_flair_text_color', 'author_flair_type', 'author_fullname', 'author_patreon_flair', 'author_premium', 'awarders', 'can_mod_post', 'contest_mode', 'created_utc', 'domain', 'full_link', 'gildings', 'id', 'is_crosspostable', 'is_meta', 'is_original_content', 'is_reddit_media_domain', 'is_robot_indexable', 'is_self', 'is_video', 'link_flair_background_color', 'link_flair_css_class', 'link_flair_richtext', 'link_flair_template_id', 'link_flair_text', 'link_flair_text_color', 'link_flair_type', 'locked', 'media_only', 'no_follow', 'num_comments', 'num_crossposts', 'over_18', 'parent_whitelist_status', 'permalink', 'pinned', 'pwls', 'retrieved_on', 'score', 'selftext', 'send_replies', 'spoiler', 'stickied', 'subreddit', 'subreddit_id', 'subreddit_subscribers', 'subreddit_type', 'thumbnail', 'title', 'total_awards_received', 'treatment_tags', 'upvote_ratio', 'url', 'url_overridden_by_dest', 'whitelist_status', 'wls'])"
     },
     "metadata": {},
     "execution_count": 86
    }
   ],
   "source": [
    "url = 'https://api.pushshift.io/reddit/search/submission/?subreddit=kpop&after=7d&score=>100&num_comments=>50'\n",
    "response = requests.get(url, headers={'User-Agent': 'Mozilla/5.0 (Macintosh; Intel Mac OS X 10_15_5) AppleWebKit/537.36 (KHTML, like Gecko) Chrome/83.0.4103.116 Safari/537.36'})\n",
    "response.json()['data'][1].keys() # What are the values that we can access for each submission?"
   ]
  },
  {
   "cell_type": "code",
   "execution_count": 87,
   "metadata": {},
   "outputs": [
    {
     "output_type": "execute_result",
     "data": {
      "text/plain": "['Jimin leaves AOA',\n 'Stray Kids make a statement supporting Black Lives Matter and apologize for any past cultural appropriation they’ve committed',\n 'Heyyy it’s Kyla (from pristin)! AMA',\n 'BLACKPINK - How You Like That (Performance Video)',\n \"BTS now holds the record for an artist with the most #1 on iTunes history with 'Black Swan' hitting #1 in 103 countries.\",\n 'FNC Entertainment confirms that AOA will no longer participate in upcoming 2020 Wonder Woman Festival to be held in late September.',\n 'Red Velvet - IRENE &amp; SEULGI - Monster Music Video to be released at 12 Noon (1200) on July 7th (200707)',\n 'Happy 4th anniversary to NCT 127!',\n 'GFriend - Apple (MV Teaser 1)',\n 'EXO-SC - On Me (Sehun Solo - Track MV)']"
     },
     "metadata": {},
     "execution_count": 87
    }
   ],
   "source": [
    "[post['title'] for post in response.json()['data']]"
   ]
  },
  {
   "cell_type": "code",
   "execution_count": null,
   "metadata": {},
   "outputs": [],
   "source": []
  }
 ],
 "metadata": {
  "language_info": {
   "codemirror_mode": {
    "name": "ipython",
    "version": 3
   },
   "file_extension": ".py",
   "mimetype": "text/x-python",
   "name": "python",
   "nbconvert_exporter": "python",
   "pygments_lexer": "ipython3",
   "version": "3.8.3-final"
  },
  "orig_nbformat": 2,
  "kernelspec": {
   "name": "python_defaultSpec_1594433253540",
   "display_name": "Python 3.8.3 64-bit ('gendered-discussion': conda)"
  }
 },
 "nbformat": 4,
 "nbformat_minor": 2
}